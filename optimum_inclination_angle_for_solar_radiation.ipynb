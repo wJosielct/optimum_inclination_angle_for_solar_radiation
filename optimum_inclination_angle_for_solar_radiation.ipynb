{
 "cells": [
  {
   "cell_type": "code",
   "execution_count": 1,
   "id": "6449f916",
   "metadata": {},
   "outputs": [],
   "source": [
    "import numpy as np\n",
    "import pandas as pd"
   ]
  },
  {
   "cell_type": "code",
   "execution_count": 2,
   "id": "24700cce",
   "metadata": {},
   "outputs": [],
   "source": [
    "def url(latitude, longitude, angle):\n",
    "    '''\n",
    "    Form the full URL to access data via the PVGIS API.\n",
    "    \n",
    "    Parameters:\n",
    "        latitude: {float}\n",
    "            Latitude of the location in decimal degrees.\n",
    "        longitude: {float}\n",
    "            Longitude of the location in decimal degrees.\n",
    "        angle: {float}\n",
    "            tilt angle for irradiation.\n",
    "    Returns:\n",
    "        {string}\n",
    "    '''\n",
    "    \n",
    "    base_url = 'https://re.jrc.ec.europa.eu/api/v5_2/MRcalc' #The base url to access data via the PVGIS API.\n",
    "\n",
    "    start_year = 2005 #First year for the desire outcome.\n",
    "    end_year = 2020 #Final year for the desire outcome.\n",
    "\n",
    "    parameters = {'lat': latitude,\n",
    "                  'lon': longitude,\n",
    "                  'raddatabase': 'PVGIS-ERA5', #Name of the radiation database to be used according to the chosen location.\n",
    "                  'startyear': start_year,\n",
    "                  'endyear': end_year,\n",
    "                  'outputformat': 'csv', #Type of output: comma separated values (csv).\n",
    "                  'angle': angle,\n",
    "                  'selectrad': 1 #Output irradiation on plane of selected inclination.\n",
    "                 }\n",
    "\n",
    "    query_string = '&'.join([f'{key}={parameters[key]}' for key in parameters]) #Forming the query string.\n",
    "\n",
    "    full_url = base_url + '?' + query_string #The full url to access data via the PVGIS API.\n",
    "\n",
    "    return full_url"
   ]
  },
  {
   "cell_type": "code",
   "execution_count": 103,
   "id": "1844d836",
   "metadata": {},
   "outputs": [],
   "source": [
    "def optimum_solar_panel_tilt_angle(latitude, longitude, months = \"Year\"):\n",
    "    '''\n",
    "    Get the optimun tilt angle of solar paneles for maximun irradiation in a desired location in specific months.\n",
    "    \n",
    "    Parameters:\n",
    "        latitude: {float}\n",
    "            Latitude of the location in decimal degrees.\n",
    "        longitude: {float}\n",
    "            Longitude of the location in decimal degrees.\n",
    "        months: {string, list}\n",
    "            desired months to evaluate solar irradiation, default \"Year\". Other supported periods are:\n",
    "                * \"S1\" : Semester 1.\n",
    "                * \"S2\" : Semester 2.\n",
    "                * \"Q1\" : Quarter 1.\n",
    "                * \"Q2\" : Quarter 2.\n",
    "                * \"Q3\" : Quarter 3.\n",
    "                * \"Q4\" : Quarter 4.\n",
    "            Lists must contain among the next string values:\n",
    "                <\"Jan\", \"Feb\", \"Mar\", \"Apr\", \"May\", \"Jun\", \"Jul\", \"Aug\", \"Sep\", \"Oct\", \"Nov\", \"Dec\">\n",
    "    Returns:\n",
    "        {int}\n",
    "    '''\n",
    "    if months == \"Year\":\n",
    "        months = [\"Jan\", \"Feb\", \"Mar\", \"Apr\", \"May\", \"Jun\", \"Jul\", \"Aug\", \"Sep\", \"Oct\", \"Nov\", \"Dec\"]\n",
    "    elif months == \"S1\":\n",
    "        months = [\"Jan\", \"Feb\", \"Mar\", \"Apr\", \"May\", \"Jun\"]\n",
    "    elif months == \"S2\":\n",
    "        months = [\"Jul\", \"Aug\", \"Sep\", \"Oct\", \"Nov\", \"Dec\"]\n",
    "    elif months == \"Q1\":\n",
    "        months = [\"Jan\", \"Feb\", \"Mar\"]\n",
    "    elif months == \"Q2\":\n",
    "        months = [\"Apr\", \"May\", \"Jun\"]\n",
    "    elif months == \"Q3\":\n",
    "        months = [\"Jul\", \"Aug\", \"Sep\"]\n",
    "    elif months == \"Q4\":\n",
    "        months = [\"Oct\", \"Nov\", \"Dec\"]\n",
    "    \n",
    "    angles = np.arange(0, 91) #Analyze angles from 0° to 90° with a step of 1°.\n",
    "    \n",
    "    total_irradiation_at_angles ={}\n",
    "    \n",
    "    for angle in angles:\n",
    "        df = pd.read_csv(url(latitude, longitude, angle), header = 3, skipfooter = 4, sep = '\\t\\t', engine = 'python')\n",
    "        df.rename(columns = {\"H(i)_m\": \"montly_irradiation\"}, inplace = True)\n",
    "        df = df[df[\"month\"].isin(months)]\n",
    "        montly_mean_irradiation = df.groupby('month')[\"montly_irradiation\"].mean()\n",
    "        total_irradiation = montly_mean_irradiation.sum()\n",
    "        total_irradiation_at_angles[angle] = total_irradiation\n",
    "    \n",
    "    return pd.Series(total_irradiation_at_angles).idxmax()"
   ]
  },
  {
   "cell_type": "code",
   "execution_count": 104,
   "id": "bc6d3562",
   "metadata": {},
   "outputs": [
    {
     "data": {
      "text/plain": [
       "8"
      ]
     },
     "execution_count": 104,
     "metadata": {},
     "output_type": "execute_result"
    }
   ],
   "source": [
    "optimum_solar_panel_tilt_angle(latitude = -6.914, longitude = -79.450)"
   ]
  }
 ],
 "metadata": {
  "kernelspec": {
   "display_name": "Python 3 (ipykernel)",
   "language": "python",
   "name": "python3"
  },
  "language_info": {
   "codemirror_mode": {
    "name": "ipython",
    "version": 3
   },
   "file_extension": ".py",
   "mimetype": "text/x-python",
   "name": "python",
   "nbconvert_exporter": "python",
   "pygments_lexer": "ipython3",
   "version": "3.9.12"
  }
 },
 "nbformat": 4,
 "nbformat_minor": 5
}
