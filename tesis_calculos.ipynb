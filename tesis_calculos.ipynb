{
 "cells": [
  {
   "cell_type": "code",
   "execution_count": 1,
   "id": "6449f916",
   "metadata": {},
   "outputs": [],
   "source": [
    "import numpy as np\n",
    "import pandas as pd\n",
    "import matplotlib.pyplot as plt\n",
    "import seaborn as sns"
   ]
  },
  {
   "cell_type": "code",
   "execution_count": 2,
   "id": "24700cce",
   "metadata": {},
   "outputs": [],
   "source": [
    "def url(latitude, longitude, angle):\n",
    "    '''\n",
    "    Form the full URL to access data via the PVGIS API.\n",
    "    \n",
    "    Parameters:\n",
    "        latitude: {float}\n",
    "            Latitude of the location in decimal degrees.\n",
    "        longitude: {float}\n",
    "            Longitude of the location in decimal degrees.\n",
    "        angle: {float}\n",
    "            tilt angle for irradiation.\n",
    "    Returns:\n",
    "        {string}\n",
    "    '''\n",
    "    \n",
    "    base_url = 'https://re.jrc.ec.europa.eu/api/v5_2/MRcalc' #The base url to access data via the PVGIS API.\n",
    "\n",
    "    start_year = 2005 #First year for the desire outcome.\n",
    "    end_year = 2020 #Final year for the desire outcome.\n",
    "\n",
    "    parameters = {'lat': latitude,\n",
    "                  'lon': longitude,\n",
    "                  'raddatabase': 'PVGIS-ERA5', #Name of the radiation database to be used according to the chosen location.\n",
    "                  'startyear': start_year,\n",
    "                  'endyear': end_year,\n",
    "                  'outputformat': 'csv', #Type of output: comma separated values (csv).\n",
    "                  'angle': angle,\n",
    "                  'selectrad': 1, #Output irradiation on plane of selected inclination.\n",
    "                  'avtemp': 1 #Output monthly average values of daily temperature.\n",
    "                 }\n",
    "\n",
    "    query_string = '&'.join([f'{key}={parameters[key]}' for key in parameters]) #Forming the query string.\n",
    "\n",
    "    full_url = base_url + '?' + query_string #The full url to access data via the PVGIS API.\n",
    "\n",
    "    return full_url"
   ]
  },
  {
   "cell_type": "code",
   "execution_count": 3,
   "id": "1844d836",
   "metadata": {},
   "outputs": [],
   "source": [
    "def optimum_solar_panel_tilt_angle(latitude, longitude, months = \"Year\"):\n",
    "    '''\n",
    "    Get the optimun tilt angle of solar paneles for maximun irradiation in a desired location in specific months.\n",
    "    \n",
    "    Parameters:\n",
    "        latitude: {float}\n",
    "            Latitude of the location in decimal degrees.\n",
    "        longitude: {float}\n",
    "            Longitude of the location in decimal degrees.\n",
    "        months: {string, list}\n",
    "            desired months to evaluate solar irradiation, default \"Year\". Other supported periods are:\n",
    "                * \"S1\" : Semester 1.\n",
    "                * \"S2\" : Semester 2.\n",
    "                * \"Q1\" : Quarter 1.\n",
    "                * \"Q2\" : Quarter 2.\n",
    "                * \"Q3\" : Quarter 3.\n",
    "                * \"Q4\" : Quarter 4.\n",
    "            Lists must contain among the next string values:\n",
    "                <\"Jan\", \"Feb\", \"Mar\", \"Apr\", \"May\", \"Jun\", \"Jul\", \"Aug\", \"Sep\", \"Oct\", \"Nov\", \"Dec\">\n",
    "    Returns:\n",
    "        {int}\n",
    "    '''\n",
    "    if months == \"Year\":\n",
    "        months = [\"Jan\", \"Feb\", \"Mar\", \"Apr\", \"May\", \"Jun\", \"Jul\", \"Aug\", \"Sep\", \"Oct\", \"Nov\", \"Dec\"]\n",
    "    elif months == \"S1\":\n",
    "        months = [\"Jan\", \"Feb\", \"Mar\", \"Apr\", \"May\", \"Jun\"]\n",
    "    elif months == \"S2\":\n",
    "        months = [\"Jul\", \"Aug\", \"Sep\", \"Oct\", \"Nov\", \"Dec\"]\n",
    "    elif months == \"Q1\":\n",
    "        months = [\"Jan\", \"Feb\", \"Mar\"]\n",
    "    elif months == \"Q2\":\n",
    "        months = [\"Apr\", \"May\", \"Jun\"]\n",
    "    elif months == \"Q3\":\n",
    "        months = [\"Jul\", \"Aug\", \"Sep\"]\n",
    "    elif months == \"Q4\":\n",
    "        months = [\"Oct\", \"Nov\", \"Dec\"]\n",
    "    \n",
    "    angles = np.arange(0, 91) #Analyze angles from 0° to 90° with a step of 1°.\n",
    "    \n",
    "    total_irradiation_at_angles ={}\n",
    "    \n",
    "    for angle in angles:\n",
    "        df = pd.read_csv(url(latitude, longitude, angle), header = 3, skipfooter = 4, sep = '\\t\\t', engine = 'python')\n",
    "        df.rename(columns = {\"H(i)_m\": \"montly_irradiation\"}, inplace = True)\n",
    "        df = df[df[\"month\"].isin(months)]\n",
    "        montly_mean_irradiation = df.groupby('month')[\"montly_irradiation\"].mean()\n",
    "        total_irradiation = montly_mean_irradiation.sum()\n",
    "        total_irradiation_at_angles[angle] = total_irradiation\n",
    "    \n",
    "    return pd.Series(total_irradiation_at_angles).idxmax()"
   ]
  },
  {
   "cell_type": "code",
   "execution_count": 4,
   "id": "bc6d3562",
   "metadata": {},
   "outputs": [
    {
     "name": "stdout",
     "output_type": "stream",
     "text": [
      "latitud = -6.9152°\n",
      "longitud = -79.4508°\n"
     ]
    },
    {
     "data": {
      "text/html": [
       "<div>\n",
       "<style scoped>\n",
       "    .dataframe tbody tr th:only-of-type {\n",
       "        vertical-align: middle;\n",
       "    }\n",
       "\n",
       "    .dataframe tbody tr th {\n",
       "        vertical-align: top;\n",
       "    }\n",
       "\n",
       "    .dataframe thead th {\n",
       "        text-align: right;\n",
       "    }\n",
       "</style>\n",
       "<table border=\"1\" class=\"dataframe\">\n",
       "  <thead>\n",
       "    <tr style=\"text-align: right;\">\n",
       "      <th></th>\n",
       "      <th>year</th>\n",
       "      <th>month</th>\n",
       "      <th>H_m_0</th>\n",
       "      <th>T_med</th>\n",
       "    </tr>\n",
       "  </thead>\n",
       "  <tbody>\n",
       "    <tr>\n",
       "      <th>0</th>\n",
       "      <td>2005</td>\n",
       "      <td>Jan</td>\n",
       "      <td>197.39</td>\n",
       "      <td>24.2</td>\n",
       "    </tr>\n",
       "    <tr>\n",
       "      <th>1</th>\n",
       "      <td>2005</td>\n",
       "      <td>Feb</td>\n",
       "      <td>146.18</td>\n",
       "      <td>23.5</td>\n",
       "    </tr>\n",
       "    <tr>\n",
       "      <th>2</th>\n",
       "      <td>2005</td>\n",
       "      <td>Mar</td>\n",
       "      <td>158.59</td>\n",
       "      <td>23.1</td>\n",
       "    </tr>\n",
       "    <tr>\n",
       "      <th>3</th>\n",
       "      <td>2005</td>\n",
       "      <td>Apr</td>\n",
       "      <td>180.41</td>\n",
       "      <td>23.4</td>\n",
       "    </tr>\n",
       "    <tr>\n",
       "      <th>4</th>\n",
       "      <td>2005</td>\n",
       "      <td>May</td>\n",
       "      <td>171.70</td>\n",
       "      <td>21.1</td>\n",
       "    </tr>\n",
       "  </tbody>\n",
       "</table>\n",
       "</div>"
      ],
      "text/plain": [
       "   year month   H_m_0  T_med\n",
       "0  2005   Jan  197.39   24.2\n",
       "1  2005   Feb  146.18   23.5\n",
       "2  2005   Mar  158.59   23.1\n",
       "3  2005   Apr  180.41   23.4\n",
       "4  2005   May  171.70   21.1"
      ]
     },
     "execution_count": 4,
     "metadata": {},
     "output_type": "execute_result"
    }
   ],
   "source": [
    "latitud = ((-6.914086) + (-6.916341))/2 #Latitud del centroide del área de cultivo [°].\n",
    "print(f\"latitud = {round(latitud, 4)}°\")\n",
    "longitud = ((-79.449931) + (-79.451749))/2 #Longitud del centroide del área de cultivo [°].\n",
    "print(f\"longitud = {round(longitud, 4)}°\")\n",
    "datos = pd.read_csv(url(latitud, longitud, 0), header = 3, skipfooter = 4, sep = '\\t\\t', engine = 'python')\n",
    "datos.rename(columns = {\"H(i)_m\": \"H_m_0\", \"T2m\": \"T_med\"}, inplace = True)\n",
    "\n",
    "meses = [\"Jan\", \"Feb\", \"Mar\", \"Apr\", \"May\", \"Jun\", \"Jul\", \"Aug\", \"Sep\", \"Oct\", \"Nov\", \"Dec\"]\n",
    "datos[\"month\"] = pd.Categorical(datos[\"month\"], categories = meses, ordered = True)\n",
    "\n",
    "datos.head()"
   ]
  },
  {
   "cell_type": "code",
   "execution_count": 5,
   "id": "841e962f",
   "metadata": {},
   "outputs": [
    {
     "data": {
      "text/html": [
       "<div>\n",
       "<style scoped>\n",
       "    .dataframe tbody tr th:only-of-type {\n",
       "        vertical-align: middle;\n",
       "    }\n",
       "\n",
       "    .dataframe tbody tr th {\n",
       "        vertical-align: top;\n",
       "    }\n",
       "\n",
       "    .dataframe thead th {\n",
       "        text-align: right;\n",
       "    }\n",
       "</style>\n",
       "<table border=\"1\" class=\"dataframe\">\n",
       "  <thead>\n",
       "    <tr style=\"text-align: right;\">\n",
       "      <th></th>\n",
       "      <th>H_m_0</th>\n",
       "      <th>T_med</th>\n",
       "      <th>days</th>\n",
       "      <th>H_d_0</th>\n",
       "      <th>H_d_0(mm/day)</th>\n",
       "    </tr>\n",
       "    <tr>\n",
       "      <th>month</th>\n",
       "      <th></th>\n",
       "      <th></th>\n",
       "      <th></th>\n",
       "      <th></th>\n",
       "      <th></th>\n",
       "    </tr>\n",
       "  </thead>\n",
       "  <tbody>\n",
       "    <tr>\n",
       "      <th>Jan</th>\n",
       "      <td>180.159</td>\n",
       "      <td>23.550</td>\n",
       "      <td>31</td>\n",
       "      <td>5.812</td>\n",
       "      <td>8.526</td>\n",
       "    </tr>\n",
       "    <tr>\n",
       "      <th>Feb</th>\n",
       "      <td>155.923</td>\n",
       "      <td>24.100</td>\n",
       "      <td>28</td>\n",
       "      <td>5.569</td>\n",
       "      <td>8.169</td>\n",
       "    </tr>\n",
       "    <tr>\n",
       "      <th>Mar</th>\n",
       "      <td>163.998</td>\n",
       "      <td>24.012</td>\n",
       "      <td>31</td>\n",
       "      <td>5.290</td>\n",
       "      <td>7.761</td>\n",
       "    </tr>\n",
       "    <tr>\n",
       "      <th>Apr</th>\n",
       "      <td>167.040</td>\n",
       "      <td>23.106</td>\n",
       "      <td>30</td>\n",
       "      <td>5.568</td>\n",
       "      <td>8.168</td>\n",
       "    </tr>\n",
       "    <tr>\n",
       "      <th>May</th>\n",
       "      <td>163.990</td>\n",
       "      <td>21.875</td>\n",
       "      <td>31</td>\n",
       "      <td>5.290</td>\n",
       "      <td>7.760</td>\n",
       "    </tr>\n",
       "    <tr>\n",
       "      <th>Jun</th>\n",
       "      <td>152.752</td>\n",
       "      <td>20.512</td>\n",
       "      <td>30</td>\n",
       "      <td>5.092</td>\n",
       "      <td>7.470</td>\n",
       "    </tr>\n",
       "    <tr>\n",
       "      <th>Jul</th>\n",
       "      <td>160.342</td>\n",
       "      <td>19.550</td>\n",
       "      <td>31</td>\n",
       "      <td>5.172</td>\n",
       "      <td>7.588</td>\n",
       "    </tr>\n",
       "    <tr>\n",
       "      <th>Aug</th>\n",
       "      <td>174.642</td>\n",
       "      <td>19.119</td>\n",
       "      <td>31</td>\n",
       "      <td>5.634</td>\n",
       "      <td>8.265</td>\n",
       "    </tr>\n",
       "    <tr>\n",
       "      <th>Sep</th>\n",
       "      <td>181.105</td>\n",
       "      <td>19.362</td>\n",
       "      <td>30</td>\n",
       "      <td>6.037</td>\n",
       "      <td>8.856</td>\n",
       "    </tr>\n",
       "    <tr>\n",
       "      <th>Oct</th>\n",
       "      <td>194.080</td>\n",
       "      <td>19.800</td>\n",
       "      <td>31</td>\n",
       "      <td>6.261</td>\n",
       "      <td>9.184</td>\n",
       "    </tr>\n",
       "    <tr>\n",
       "      <th>Nov</th>\n",
       "      <td>195.502</td>\n",
       "      <td>20.594</td>\n",
       "      <td>30</td>\n",
       "      <td>6.517</td>\n",
       "      <td>9.560</td>\n",
       "    </tr>\n",
       "    <tr>\n",
       "      <th>Dec</th>\n",
       "      <td>191.895</td>\n",
       "      <td>21.938</td>\n",
       "      <td>31</td>\n",
       "      <td>6.190</td>\n",
       "      <td>9.081</td>\n",
       "    </tr>\n",
       "  </tbody>\n",
       "</table>\n",
       "</div>"
      ],
      "text/plain": [
       "         H_m_0   T_med  days  H_d_0  H_d_0(mm/day)\n",
       "month                                             \n",
       "Jan    180.159  23.550    31  5.812          8.526\n",
       "Feb    155.923  24.100    28  5.569          8.169\n",
       "Mar    163.998  24.012    31  5.290          7.761\n",
       "Apr    167.040  23.106    30  5.568          8.168\n",
       "May    163.990  21.875    31  5.290          7.760\n",
       "Jun    152.752  20.512    30  5.092          7.470\n",
       "Jul    160.342  19.550    31  5.172          7.588\n",
       "Aug    174.642  19.119    31  5.634          8.265\n",
       "Sep    181.105  19.362    30  6.037          8.856\n",
       "Oct    194.080  19.800    31  6.261          9.184\n",
       "Nov    195.502  20.594    30  6.517          9.560\n",
       "Dec    191.895  21.938    31  6.190          9.081"
      ]
     },
     "execution_count": 5,
     "metadata": {},
     "output_type": "execute_result"
    }
   ],
   "source": [
    "resultados = datos.groupby(\"month\")[[\"H_m_0\", \"T_med\"]].mean()\n",
    "resultados[\"days\"] = np.array([31, 28, 31, 30, 31, 30, 31, 31, 30, 31, 30, 31]) #Número de días de cada mes.\n",
    "resultados[\"H_d_0\"] = resultados[\"H_m_0\"]/resultados[\"days\"]\n",
    "resultados[\"H_d_0(mm/day)\"] = resultados[\"H_d_0\"] * 1.467\n",
    "resultados.round(decimals = 3)"
   ]
  },
  {
   "cell_type": "code",
   "execution_count": 6,
   "id": "a2a4d5d0",
   "metadata": {},
   "outputs": [
    {
     "data": {
      "text/html": [
       "<div>\n",
       "<style scoped>\n",
       "    .dataframe tbody tr th:only-of-type {\n",
       "        vertical-align: middle;\n",
       "    }\n",
       "\n",
       "    .dataframe tbody tr th {\n",
       "        vertical-align: top;\n",
       "    }\n",
       "\n",
       "    .dataframe thead th {\n",
       "        text-align: right;\n",
       "    }\n",
       "</style>\n",
       "<table border=\"1\" class=\"dataframe\">\n",
       "  <thead>\n",
       "    <tr style=\"text-align: right;\">\n",
       "      <th></th>\n",
       "      <th>H_m_0</th>\n",
       "      <th>T_med</th>\n",
       "      <th>days</th>\n",
       "      <th>H_d_0</th>\n",
       "      <th>H_d_0(mm/day)</th>\n",
       "      <th>ETo</th>\n",
       "      <th>ETc</th>\n",
       "    </tr>\n",
       "    <tr>\n",
       "      <th>month</th>\n",
       "      <th></th>\n",
       "      <th></th>\n",
       "      <th></th>\n",
       "      <th></th>\n",
       "      <th></th>\n",
       "      <th></th>\n",
       "      <th></th>\n",
       "    </tr>\n",
       "  </thead>\n",
       "  <tbody>\n",
       "    <tr>\n",
       "      <th>Jan</th>\n",
       "      <td>180.159</td>\n",
       "      <td>23.550</td>\n",
       "      <td>31</td>\n",
       "      <td>5.812</td>\n",
       "      <td>8.526</td>\n",
       "      <td>4.757</td>\n",
       "      <td>3.425</td>\n",
       "    </tr>\n",
       "    <tr>\n",
       "      <th>Feb</th>\n",
       "      <td>155.923</td>\n",
       "      <td>24.100</td>\n",
       "      <td>28</td>\n",
       "      <td>5.569</td>\n",
       "      <td>8.169</td>\n",
       "      <td>4.619</td>\n",
       "      <td>3.325</td>\n",
       "    </tr>\n",
       "    <tr>\n",
       "      <th>Mar</th>\n",
       "      <td>163.998</td>\n",
       "      <td>24.012</td>\n",
       "      <td>31</td>\n",
       "      <td>5.290</td>\n",
       "      <td>7.761</td>\n",
       "      <td>4.379</td>\n",
       "      <td>3.153</td>\n",
       "    </tr>\n",
       "    <tr>\n",
       "      <th>Apr</th>\n",
       "      <td>167.040</td>\n",
       "      <td>23.106</td>\n",
       "      <td>30</td>\n",
       "      <td>5.568</td>\n",
       "      <td>8.168</td>\n",
       "      <td>4.509</td>\n",
       "      <td>3.246</td>\n",
       "    </tr>\n",
       "    <tr>\n",
       "      <th>May</th>\n",
       "      <td>163.990</td>\n",
       "      <td>21.875</td>\n",
       "      <td>31</td>\n",
       "      <td>5.290</td>\n",
       "      <td>7.760</td>\n",
       "      <td>4.154</td>\n",
       "      <td>2.991</td>\n",
       "    </tr>\n",
       "    <tr>\n",
       "      <th>Jun</th>\n",
       "      <td>152.752</td>\n",
       "      <td>20.512</td>\n",
       "      <td>30</td>\n",
       "      <td>5.092</td>\n",
       "      <td>7.470</td>\n",
       "      <td>3.861</td>\n",
       "      <td>2.780</td>\n",
       "    </tr>\n",
       "    <tr>\n",
       "      <th>Jul</th>\n",
       "      <td>160.342</td>\n",
       "      <td>19.550</td>\n",
       "      <td>31</td>\n",
       "      <td>5.172</td>\n",
       "      <td>7.588</td>\n",
       "      <td>3.824</td>\n",
       "      <td>2.753</td>\n",
       "    </tr>\n",
       "    <tr>\n",
       "      <th>Aug</th>\n",
       "      <td>174.642</td>\n",
       "      <td>19.119</td>\n",
       "      <td>31</td>\n",
       "      <td>5.634</td>\n",
       "      <td>8.265</td>\n",
       "      <td>4.117</td>\n",
       "      <td>2.964</td>\n",
       "    </tr>\n",
       "    <tr>\n",
       "      <th>Sep</th>\n",
       "      <td>181.105</td>\n",
       "      <td>19.362</td>\n",
       "      <td>30</td>\n",
       "      <td>6.037</td>\n",
       "      <td>8.856</td>\n",
       "      <td>4.441</td>\n",
       "      <td>3.197</td>\n",
       "    </tr>\n",
       "    <tr>\n",
       "      <th>Oct</th>\n",
       "      <td>194.080</td>\n",
       "      <td>19.800</td>\n",
       "      <td>31</td>\n",
       "      <td>6.261</td>\n",
       "      <td>9.184</td>\n",
       "      <td>4.660</td>\n",
       "      <td>3.355</td>\n",
       "    </tr>\n",
       "    <tr>\n",
       "      <th>Nov</th>\n",
       "      <td>195.502</td>\n",
       "      <td>20.594</td>\n",
       "      <td>30</td>\n",
       "      <td>6.517</td>\n",
       "      <td>9.560</td>\n",
       "      <td>4.953</td>\n",
       "      <td>3.566</td>\n",
       "    </tr>\n",
       "    <tr>\n",
       "      <th>Dec</th>\n",
       "      <td>191.895</td>\n",
       "      <td>21.938</td>\n",
       "      <td>31</td>\n",
       "      <td>6.190</td>\n",
       "      <td>9.081</td>\n",
       "      <td>4.869</td>\n",
       "      <td>3.506</td>\n",
       "    </tr>\n",
       "  </tbody>\n",
       "</table>\n",
       "</div>"
      ],
      "text/plain": [
       "         H_m_0   T_med  days  H_d_0  H_d_0(mm/day)    ETo    ETc\n",
       "month                                                           \n",
       "Jan    180.159  23.550    31  5.812          8.526  4.757  3.425\n",
       "Feb    155.923  24.100    28  5.569          8.169  4.619  3.325\n",
       "Mar    163.998  24.012    31  5.290          7.761  4.379  3.153\n",
       "Apr    167.040  23.106    30  5.568          8.168  4.509  3.246\n",
       "May    163.990  21.875    31  5.290          7.760  4.154  2.991\n",
       "Jun    152.752  20.512    30  5.092          7.470  3.861  2.780\n",
       "Jul    160.342  19.550    31  5.172          7.588  3.824  2.753\n",
       "Aug    174.642  19.119    31  5.634          8.265  4.117  2.964\n",
       "Sep    181.105  19.362    30  6.037          8.856  4.441  3.197\n",
       "Oct    194.080  19.800    31  6.261          9.184  4.660  3.355\n",
       "Nov    195.502  20.594    30  6.517          9.560  4.953  3.566\n",
       "Dec    191.895  21.938    31  6.190          9.081  4.869  3.506"
      ]
     },
     "execution_count": 6,
     "metadata": {},
     "output_type": "execute_result"
    }
   ],
   "source": [
    "resultados[\"ETo\"] = 0.0135 * (resultados[\"T_med\"] + 17.78) * resultados[\"H_d_0(mm/day)\"] #Fórmula de Hargreaves y Samani.\n",
    "\n",
    "K_c = 0.72 #Coeficiente de cultivo de la palta.\n",
    "resultados[\"ETc\"] = resultados[\"ETo\"] * K_c\n",
    "resultados.round(decimals = 3)"
   ]
  },
  {
   "cell_type": "code",
   "execution_count": 7,
   "id": "1c1df9da",
   "metadata": {},
   "outputs": [
    {
     "data": {
      "text/html": [
       "<div>\n",
       "<style scoped>\n",
       "    .dataframe tbody tr th:only-of-type {\n",
       "        vertical-align: middle;\n",
       "    }\n",
       "\n",
       "    .dataframe tbody tr th {\n",
       "        vertical-align: top;\n",
       "    }\n",
       "\n",
       "    .dataframe thead th {\n",
       "        text-align: right;\n",
       "    }\n",
       "</style>\n",
       "<table border=\"1\" class=\"dataframe\">\n",
       "  <thead>\n",
       "    <tr style=\"text-align: right;\">\n",
       "      <th></th>\n",
       "      <th>H_m_0</th>\n",
       "      <th>T_med</th>\n",
       "      <th>days</th>\n",
       "      <th>H_d_0</th>\n",
       "      <th>H_d_0(mm/day)</th>\n",
       "      <th>ETo</th>\n",
       "      <th>ETc</th>\n",
       "      <th>RR</th>\n",
       "    </tr>\n",
       "    <tr>\n",
       "      <th>month</th>\n",
       "      <th></th>\n",
       "      <th></th>\n",
       "      <th></th>\n",
       "      <th></th>\n",
       "      <th></th>\n",
       "      <th></th>\n",
       "      <th></th>\n",
       "      <th></th>\n",
       "    </tr>\n",
       "  </thead>\n",
       "  <tbody>\n",
       "    <tr>\n",
       "      <th>Jan</th>\n",
       "      <td>180.159</td>\n",
       "      <td>23.550</td>\n",
       "      <td>31</td>\n",
       "      <td>5.812</td>\n",
       "      <td>8.526</td>\n",
       "      <td>4.757</td>\n",
       "      <td>3.425</td>\n",
       "      <td>3.806</td>\n",
       "    </tr>\n",
       "    <tr>\n",
       "      <th>Feb</th>\n",
       "      <td>155.923</td>\n",
       "      <td>24.100</td>\n",
       "      <td>28</td>\n",
       "      <td>5.569</td>\n",
       "      <td>8.169</td>\n",
       "      <td>4.619</td>\n",
       "      <td>3.325</td>\n",
       "      <td>3.695</td>\n",
       "    </tr>\n",
       "    <tr>\n",
       "      <th>Mar</th>\n",
       "      <td>163.998</td>\n",
       "      <td>24.012</td>\n",
       "      <td>31</td>\n",
       "      <td>5.290</td>\n",
       "      <td>7.761</td>\n",
       "      <td>4.379</td>\n",
       "      <td>3.153</td>\n",
       "      <td>3.503</td>\n",
       "    </tr>\n",
       "    <tr>\n",
       "      <th>Apr</th>\n",
       "      <td>167.040</td>\n",
       "      <td>23.106</td>\n",
       "      <td>30</td>\n",
       "      <td>5.568</td>\n",
       "      <td>8.168</td>\n",
       "      <td>4.509</td>\n",
       "      <td>3.246</td>\n",
       "      <td>3.607</td>\n",
       "    </tr>\n",
       "    <tr>\n",
       "      <th>May</th>\n",
       "      <td>163.990</td>\n",
       "      <td>21.875</td>\n",
       "      <td>31</td>\n",
       "      <td>5.290</td>\n",
       "      <td>7.760</td>\n",
       "      <td>4.154</td>\n",
       "      <td>2.991</td>\n",
       "      <td>3.324</td>\n",
       "    </tr>\n",
       "    <tr>\n",
       "      <th>Jun</th>\n",
       "      <td>152.752</td>\n",
       "      <td>20.512</td>\n",
       "      <td>30</td>\n",
       "      <td>5.092</td>\n",
       "      <td>7.470</td>\n",
       "      <td>3.861</td>\n",
       "      <td>2.780</td>\n",
       "      <td>3.089</td>\n",
       "    </tr>\n",
       "    <tr>\n",
       "      <th>Jul</th>\n",
       "      <td>160.342</td>\n",
       "      <td>19.550</td>\n",
       "      <td>31</td>\n",
       "      <td>5.172</td>\n",
       "      <td>7.588</td>\n",
       "      <td>3.824</td>\n",
       "      <td>2.753</td>\n",
       "      <td>3.059</td>\n",
       "    </tr>\n",
       "    <tr>\n",
       "      <th>Aug</th>\n",
       "      <td>174.642</td>\n",
       "      <td>19.119</td>\n",
       "      <td>31</td>\n",
       "      <td>5.634</td>\n",
       "      <td>8.265</td>\n",
       "      <td>4.117</td>\n",
       "      <td>2.964</td>\n",
       "      <td>3.293</td>\n",
       "    </tr>\n",
       "    <tr>\n",
       "      <th>Sep</th>\n",
       "      <td>181.105</td>\n",
       "      <td>19.362</td>\n",
       "      <td>30</td>\n",
       "      <td>6.037</td>\n",
       "      <td>8.856</td>\n",
       "      <td>4.441</td>\n",
       "      <td>3.197</td>\n",
       "      <td>3.553</td>\n",
       "    </tr>\n",
       "    <tr>\n",
       "      <th>Oct</th>\n",
       "      <td>194.080</td>\n",
       "      <td>19.800</td>\n",
       "      <td>31</td>\n",
       "      <td>6.261</td>\n",
       "      <td>9.184</td>\n",
       "      <td>4.660</td>\n",
       "      <td>3.355</td>\n",
       "      <td>3.728</td>\n",
       "    </tr>\n",
       "    <tr>\n",
       "      <th>Nov</th>\n",
       "      <td>195.502</td>\n",
       "      <td>20.594</td>\n",
       "      <td>30</td>\n",
       "      <td>6.517</td>\n",
       "      <td>9.560</td>\n",
       "      <td>4.953</td>\n",
       "      <td>3.566</td>\n",
       "      <td>3.962</td>\n",
       "    </tr>\n",
       "    <tr>\n",
       "      <th>Dec</th>\n",
       "      <td>191.895</td>\n",
       "      <td>21.938</td>\n",
       "      <td>31</td>\n",
       "      <td>6.190</td>\n",
       "      <td>9.081</td>\n",
       "      <td>4.869</td>\n",
       "      <td>3.506</td>\n",
       "      <td>3.895</td>\n",
       "    </tr>\n",
       "  </tbody>\n",
       "</table>\n",
       "</div>"
      ],
      "text/plain": [
       "         H_m_0   T_med  days  H_d_0  H_d_0(mm/day)    ETo    ETc     RR\n",
       "month                                                                  \n",
       "Jan    180.159  23.550    31  5.812          8.526  4.757  3.425  3.806\n",
       "Feb    155.923  24.100    28  5.569          8.169  4.619  3.325  3.695\n",
       "Mar    163.998  24.012    31  5.290          7.761  4.379  3.153  3.503\n",
       "Apr    167.040  23.106    30  5.568          8.168  4.509  3.246  3.607\n",
       "May    163.990  21.875    31  5.290          7.760  4.154  2.991  3.324\n",
       "Jun    152.752  20.512    30  5.092          7.470  3.861  2.780  3.089\n",
       "Jul    160.342  19.550    31  5.172          7.588  3.824  2.753  3.059\n",
       "Aug    174.642  19.119    31  5.634          8.265  4.117  2.964  3.293\n",
       "Sep    181.105  19.362    30  6.037          8.856  4.441  3.197  3.553\n",
       "Oct    194.080  19.800    31  6.261          9.184  4.660  3.355  3.728\n",
       "Nov    195.502  20.594    30  6.517          9.560  4.953  3.566  3.962\n",
       "Dec    191.895  21.938    31  6.190          9.081  4.869  3.506  3.895"
      ]
     },
     "execution_count": 7,
     "metadata": {},
     "output_type": "execute_result"
    }
   ],
   "source": [
    "eficiencia_riego = 0.90 #Eficiencia del sistema de riego por goteo.\n",
    "resultados[\"RR\"] = resultados[\"ETc\"]/eficiencia_riego\n",
    "resultados.round(decimals = 3)"
   ]
  },
  {
   "cell_type": "code",
   "execution_count": 8,
   "id": "df4edd4c",
   "metadata": {},
   "outputs": [
    {
     "data": {
      "text/html": [
       "<div>\n",
       "<style scoped>\n",
       "    .dataframe tbody tr th:only-of-type {\n",
       "        vertical-align: middle;\n",
       "    }\n",
       "\n",
       "    .dataframe tbody tr th {\n",
       "        vertical-align: top;\n",
       "    }\n",
       "\n",
       "    .dataframe thead th {\n",
       "        text-align: right;\n",
       "    }\n",
       "</style>\n",
       "<table border=\"1\" class=\"dataframe\">\n",
       "  <thead>\n",
       "    <tr style=\"text-align: right;\">\n",
       "      <th></th>\n",
       "      <th>H_m_0</th>\n",
       "      <th>T_med</th>\n",
       "      <th>days</th>\n",
       "      <th>H_d_0</th>\n",
       "      <th>H_d_0(mm/day)</th>\n",
       "      <th>ETo</th>\n",
       "      <th>ETc</th>\n",
       "      <th>RR</th>\n",
       "      <th>Vol_p</th>\n",
       "    </tr>\n",
       "    <tr>\n",
       "      <th>month</th>\n",
       "      <th></th>\n",
       "      <th></th>\n",
       "      <th></th>\n",
       "      <th></th>\n",
       "      <th></th>\n",
       "      <th></th>\n",
       "      <th></th>\n",
       "      <th></th>\n",
       "      <th></th>\n",
       "    </tr>\n",
       "  </thead>\n",
       "  <tbody>\n",
       "    <tr>\n",
       "      <th>Jan</th>\n",
       "      <td>180.159</td>\n",
       "      <td>23.550</td>\n",
       "      <td>31</td>\n",
       "      <td>5.812</td>\n",
       "      <td>8.526</td>\n",
       "      <td>4.757</td>\n",
       "      <td>3.425</td>\n",
       "      <td>3.806</td>\n",
       "      <td>91.332</td>\n",
       "    </tr>\n",
       "    <tr>\n",
       "      <th>Feb</th>\n",
       "      <td>155.923</td>\n",
       "      <td>24.100</td>\n",
       "      <td>28</td>\n",
       "      <td>5.569</td>\n",
       "      <td>8.169</td>\n",
       "      <td>4.619</td>\n",
       "      <td>3.325</td>\n",
       "      <td>3.695</td>\n",
       "      <td>88.680</td>\n",
       "    </tr>\n",
       "    <tr>\n",
       "      <th>Mar</th>\n",
       "      <td>163.998</td>\n",
       "      <td>24.012</td>\n",
       "      <td>31</td>\n",
       "      <td>5.290</td>\n",
       "      <td>7.761</td>\n",
       "      <td>4.379</td>\n",
       "      <td>3.153</td>\n",
       "      <td>3.503</td>\n",
       "      <td>84.070</td>\n",
       "    </tr>\n",
       "    <tr>\n",
       "      <th>Apr</th>\n",
       "      <td>167.040</td>\n",
       "      <td>23.106</td>\n",
       "      <td>30</td>\n",
       "      <td>5.568</td>\n",
       "      <td>8.168</td>\n",
       "      <td>4.509</td>\n",
       "      <td>3.246</td>\n",
       "      <td>3.607</td>\n",
       "      <td>86.565</td>\n",
       "    </tr>\n",
       "    <tr>\n",
       "      <th>May</th>\n",
       "      <td>163.990</td>\n",
       "      <td>21.875</td>\n",
       "      <td>31</td>\n",
       "      <td>5.290</td>\n",
       "      <td>7.760</td>\n",
       "      <td>4.154</td>\n",
       "      <td>2.991</td>\n",
       "      <td>3.324</td>\n",
       "      <td>79.766</td>\n",
       "    </tr>\n",
       "    <tr>\n",
       "      <th>Jun</th>\n",
       "      <td>152.752</td>\n",
       "      <td>20.512</td>\n",
       "      <td>30</td>\n",
       "      <td>5.092</td>\n",
       "      <td>7.470</td>\n",
       "      <td>3.861</td>\n",
       "      <td>2.780</td>\n",
       "      <td>3.089</td>\n",
       "      <td>74.139</td>\n",
       "    </tr>\n",
       "    <tr>\n",
       "      <th>Jul</th>\n",
       "      <td>160.342</td>\n",
       "      <td>19.550</td>\n",
       "      <td>31</td>\n",
       "      <td>5.172</td>\n",
       "      <td>7.588</td>\n",
       "      <td>3.824</td>\n",
       "      <td>2.753</td>\n",
       "      <td>3.059</td>\n",
       "      <td>73.419</td>\n",
       "    </tr>\n",
       "    <tr>\n",
       "      <th>Aug</th>\n",
       "      <td>174.642</td>\n",
       "      <td>19.119</td>\n",
       "      <td>31</td>\n",
       "      <td>5.634</td>\n",
       "      <td>8.265</td>\n",
       "      <td>4.117</td>\n",
       "      <td>2.964</td>\n",
       "      <td>3.293</td>\n",
       "      <td>79.043</td>\n",
       "    </tr>\n",
       "    <tr>\n",
       "      <th>Sep</th>\n",
       "      <td>181.105</td>\n",
       "      <td>19.362</td>\n",
       "      <td>30</td>\n",
       "      <td>6.037</td>\n",
       "      <td>8.856</td>\n",
       "      <td>4.441</td>\n",
       "      <td>3.197</td>\n",
       "      <td>3.553</td>\n",
       "      <td>85.260</td>\n",
       "    </tr>\n",
       "    <tr>\n",
       "      <th>Oct</th>\n",
       "      <td>194.080</td>\n",
       "      <td>19.800</td>\n",
       "      <td>31</td>\n",
       "      <td>6.261</td>\n",
       "      <td>9.184</td>\n",
       "      <td>4.660</td>\n",
       "      <td>3.355</td>\n",
       "      <td>3.728</td>\n",
       "      <td>89.462</td>\n",
       "    </tr>\n",
       "    <tr>\n",
       "      <th>Nov</th>\n",
       "      <td>195.502</td>\n",
       "      <td>20.594</td>\n",
       "      <td>30</td>\n",
       "      <td>6.517</td>\n",
       "      <td>9.560</td>\n",
       "      <td>4.953</td>\n",
       "      <td>3.566</td>\n",
       "      <td>3.962</td>\n",
       "      <td>95.089</td>\n",
       "    </tr>\n",
       "    <tr>\n",
       "      <th>Dec</th>\n",
       "      <td>191.895</td>\n",
       "      <td>21.938</td>\n",
       "      <td>31</td>\n",
       "      <td>6.190</td>\n",
       "      <td>9.081</td>\n",
       "      <td>4.869</td>\n",
       "      <td>3.506</td>\n",
       "      <td>3.895</td>\n",
       "      <td>93.487</td>\n",
       "    </tr>\n",
       "  </tbody>\n",
       "</table>\n",
       "</div>"
      ],
      "text/plain": [
       "         H_m_0   T_med  days  H_d_0  H_d_0(mm/day)    ETo    ETc     RR  \\\n",
       "month                                                                     \n",
       "Jan    180.159  23.550    31  5.812          8.526  4.757  3.425  3.806   \n",
       "Feb    155.923  24.100    28  5.569          8.169  4.619  3.325  3.695   \n",
       "Mar    163.998  24.012    31  5.290          7.761  4.379  3.153  3.503   \n",
       "Apr    167.040  23.106    30  5.568          8.168  4.509  3.246  3.607   \n",
       "May    163.990  21.875    31  5.290          7.760  4.154  2.991  3.324   \n",
       "Jun    152.752  20.512    30  5.092          7.470  3.861  2.780  3.089   \n",
       "Jul    160.342  19.550    31  5.172          7.588  3.824  2.753  3.059   \n",
       "Aug    174.642  19.119    31  5.634          8.265  4.117  2.964  3.293   \n",
       "Sep    181.105  19.362    30  6.037          8.856  4.441  3.197  3.553   \n",
       "Oct    194.080  19.800    31  6.261          9.184  4.660  3.355  3.728   \n",
       "Nov    195.502  20.594    30  6.517          9.560  4.953  3.566  3.962   \n",
       "Dec    191.895  21.938    31  6.190          9.081  4.869  3.506  3.895   \n",
       "\n",
       "        Vol_p  \n",
       "month          \n",
       "Jan    91.332  \n",
       "Feb    88.680  \n",
       "Mar    84.070  \n",
       "Apr    86.565  \n",
       "May    79.766  \n",
       "Jun    74.139  \n",
       "Jul    73.419  \n",
       "Aug    79.043  \n",
       "Sep    85.260  \n",
       "Oct    89.462  \n",
       "Nov    95.089  \n",
       "Dec    93.487  "
      ]
     },
     "execution_count": 8,
     "metadata": {},
     "output_type": "execute_result"
    }
   ],
   "source": [
    "S_p = 4 #Separación entre plantas [m].\n",
    "S_s = 6 #Separación entre surcos [m].\n",
    "\n",
    "resultados[\"Vol_p\"] = resultados[\"RR\"] * S_p * S_s\n",
    "resultados.round(decimals = 3)"
   ]
  },
  {
   "cell_type": "code",
   "execution_count": 9,
   "id": "7a584f39",
   "metadata": {},
   "outputs": [
    {
     "name": "stdout",
     "output_type": "stream",
     "text": [
      "tiempo de riego máximo = 5.943 h\n"
     ]
    }
   ],
   "source": [
    "Vol_p_max = resultados[\"Vol_p\"].max() #Volumen por planta máximo [l].\n",
    "N_g_p = 2 #Número de goteros por planta.\n",
    "Caudal_g = 8 #Caudal del gotero [l/h].\n",
    "t_r_max = Vol_p_max/(N_g_p * Caudal_g)\n",
    "print(f\"tiempo de riego máximo = {round(t_r_max, 3)} h\")"
   ]
  },
  {
   "cell_type": "code",
   "execution_count": 10,
   "id": "66e81c17",
   "metadata": {},
   "outputs": [
    {
     "name": "stdout",
     "output_type": "stream",
     "text": [
      "Número de surcos en una hectárea = 34\n",
      "úmero de plantas en un surco por hectárea = 13\n",
      "Número de plantas por hectárea = 442\n"
     ]
    }
   ],
   "source": [
    "from math import ceil\n",
    "\n",
    "L_s = 200 #Dimensión de la hectárea a través de la cual se hacen los surcos.\n",
    "L_p = 50 #Dimensión de la hectárea a lo largo de las plantas en cada surco.\n",
    "\n",
    "N_s = ceil(L_s/S_s)\n",
    "print(f'Número de surcos en una hectárea = {N_s}')\n",
    "N_p = ceil(L_p/S_p)\n",
    "print(f\"úmero de plantas en un surco por hectárea = {N_p}\")\n",
    "N_p_h = N_s * N_p\n",
    "print(f\"Número de plantas por hectárea = {N_p_h}\")"
   ]
  },
  {
   "cell_type": "code",
   "execution_count": 11,
   "id": "c8971455",
   "metadata": {},
   "outputs": [
    {
     "data": {
      "text/html": [
       "<div>\n",
       "<style scoped>\n",
       "    .dataframe tbody tr th:only-of-type {\n",
       "        vertical-align: middle;\n",
       "    }\n",
       "\n",
       "    .dataframe tbody tr th {\n",
       "        vertical-align: top;\n",
       "    }\n",
       "\n",
       "    .dataframe thead th {\n",
       "        text-align: right;\n",
       "    }\n",
       "</style>\n",
       "<table border=\"1\" class=\"dataframe\">\n",
       "  <thead>\n",
       "    <tr style=\"text-align: right;\">\n",
       "      <th></th>\n",
       "      <th>H_m_0</th>\n",
       "      <th>T_med</th>\n",
       "      <th>days</th>\n",
       "      <th>H_d_0</th>\n",
       "      <th>H_d_0(mm/day)</th>\n",
       "      <th>ETo</th>\n",
       "      <th>ETc</th>\n",
       "      <th>RR</th>\n",
       "      <th>Vol_p</th>\n",
       "      <th>Vol_h</th>\n",
       "    </tr>\n",
       "    <tr>\n",
       "      <th>month</th>\n",
       "      <th></th>\n",
       "      <th></th>\n",
       "      <th></th>\n",
       "      <th></th>\n",
       "      <th></th>\n",
       "      <th></th>\n",
       "      <th></th>\n",
       "      <th></th>\n",
       "      <th></th>\n",
       "      <th></th>\n",
       "    </tr>\n",
       "  </thead>\n",
       "  <tbody>\n",
       "    <tr>\n",
       "      <th>Jan</th>\n",
       "      <td>180.159</td>\n",
       "      <td>23.550</td>\n",
       "      <td>31</td>\n",
       "      <td>5.812</td>\n",
       "      <td>8.526</td>\n",
       "      <td>4.757</td>\n",
       "      <td>3.425</td>\n",
       "      <td>3.806</td>\n",
       "      <td>91.332</td>\n",
       "      <td>40368.857</td>\n",
       "    </tr>\n",
       "    <tr>\n",
       "      <th>Feb</th>\n",
       "      <td>155.923</td>\n",
       "      <td>24.100</td>\n",
       "      <td>28</td>\n",
       "      <td>5.569</td>\n",
       "      <td>8.169</td>\n",
       "      <td>4.619</td>\n",
       "      <td>3.325</td>\n",
       "      <td>3.695</td>\n",
       "      <td>88.680</td>\n",
       "      <td>39196.434</td>\n",
       "    </tr>\n",
       "    <tr>\n",
       "      <th>Mar</th>\n",
       "      <td>163.998</td>\n",
       "      <td>24.012</td>\n",
       "      <td>31</td>\n",
       "      <td>5.290</td>\n",
       "      <td>7.761</td>\n",
       "      <td>4.379</td>\n",
       "      <td>3.153</td>\n",
       "      <td>3.503</td>\n",
       "      <td>84.070</td>\n",
       "      <td>37158.764</td>\n",
       "    </tr>\n",
       "    <tr>\n",
       "      <th>Apr</th>\n",
       "      <td>167.040</td>\n",
       "      <td>23.106</td>\n",
       "      <td>30</td>\n",
       "      <td>5.568</td>\n",
       "      <td>8.168</td>\n",
       "      <td>4.509</td>\n",
       "      <td>3.246</td>\n",
       "      <td>3.607</td>\n",
       "      <td>86.565</td>\n",
       "      <td>38261.667</td>\n",
       "    </tr>\n",
       "    <tr>\n",
       "      <th>May</th>\n",
       "      <td>163.990</td>\n",
       "      <td>21.875</td>\n",
       "      <td>31</td>\n",
       "      <td>5.290</td>\n",
       "      <td>7.760</td>\n",
       "      <td>4.154</td>\n",
       "      <td>2.991</td>\n",
       "      <td>3.324</td>\n",
       "      <td>79.766</td>\n",
       "      <td>35256.647</td>\n",
       "    </tr>\n",
       "    <tr>\n",
       "      <th>Jun</th>\n",
       "      <td>152.752</td>\n",
       "      <td>20.512</td>\n",
       "      <td>30</td>\n",
       "      <td>5.092</td>\n",
       "      <td>7.470</td>\n",
       "      <td>3.861</td>\n",
       "      <td>2.780</td>\n",
       "      <td>3.089</td>\n",
       "      <td>74.139</td>\n",
       "      <td>32769.242</td>\n",
       "    </tr>\n",
       "    <tr>\n",
       "      <th>Jul</th>\n",
       "      <td>160.342</td>\n",
       "      <td>19.550</td>\n",
       "      <td>31</td>\n",
       "      <td>5.172</td>\n",
       "      <td>7.588</td>\n",
       "      <td>3.824</td>\n",
       "      <td>2.753</td>\n",
       "      <td>3.059</td>\n",
       "      <td>73.419</td>\n",
       "      <td>32451.317</td>\n",
       "    </tr>\n",
       "    <tr>\n",
       "      <th>Aug</th>\n",
       "      <td>174.642</td>\n",
       "      <td>19.119</td>\n",
       "      <td>31</td>\n",
       "      <td>5.634</td>\n",
       "      <td>8.265</td>\n",
       "      <td>4.117</td>\n",
       "      <td>2.964</td>\n",
       "      <td>3.293</td>\n",
       "      <td>79.043</td>\n",
       "      <td>34937.009</td>\n",
       "    </tr>\n",
       "    <tr>\n",
       "      <th>Sep</th>\n",
       "      <td>181.105</td>\n",
       "      <td>19.362</td>\n",
       "      <td>30</td>\n",
       "      <td>6.037</td>\n",
       "      <td>8.856</td>\n",
       "      <td>4.441</td>\n",
       "      <td>3.197</td>\n",
       "      <td>3.553</td>\n",
       "      <td>85.260</td>\n",
       "      <td>37684.929</td>\n",
       "    </tr>\n",
       "    <tr>\n",
       "      <th>Oct</th>\n",
       "      <td>194.080</td>\n",
       "      <td>19.800</td>\n",
       "      <td>31</td>\n",
       "      <td>6.261</td>\n",
       "      <td>9.184</td>\n",
       "      <td>4.660</td>\n",
       "      <td>3.355</td>\n",
       "      <td>3.728</td>\n",
       "      <td>89.462</td>\n",
       "      <td>39542.420</td>\n",
       "    </tr>\n",
       "    <tr>\n",
       "      <th>Nov</th>\n",
       "      <td>195.502</td>\n",
       "      <td>20.594</td>\n",
       "      <td>30</td>\n",
       "      <td>6.517</td>\n",
       "      <td>9.560</td>\n",
       "      <td>4.953</td>\n",
       "      <td>3.566</td>\n",
       "      <td>3.962</td>\n",
       "      <td>95.089</td>\n",
       "      <td>42029.217</td>\n",
       "    </tr>\n",
       "    <tr>\n",
       "      <th>Dec</th>\n",
       "      <td>191.895</td>\n",
       "      <td>21.938</td>\n",
       "      <td>31</td>\n",
       "      <td>6.190</td>\n",
       "      <td>9.081</td>\n",
       "      <td>4.869</td>\n",
       "      <td>3.506</td>\n",
       "      <td>3.895</td>\n",
       "      <td>93.487</td>\n",
       "      <td>41321.041</td>\n",
       "    </tr>\n",
       "  </tbody>\n",
       "</table>\n",
       "</div>"
      ],
      "text/plain": [
       "         H_m_0   T_med  days  H_d_0  H_d_0(mm/day)    ETo    ETc     RR  \\\n",
       "month                                                                     \n",
       "Jan    180.159  23.550    31  5.812          8.526  4.757  3.425  3.806   \n",
       "Feb    155.923  24.100    28  5.569          8.169  4.619  3.325  3.695   \n",
       "Mar    163.998  24.012    31  5.290          7.761  4.379  3.153  3.503   \n",
       "Apr    167.040  23.106    30  5.568          8.168  4.509  3.246  3.607   \n",
       "May    163.990  21.875    31  5.290          7.760  4.154  2.991  3.324   \n",
       "Jun    152.752  20.512    30  5.092          7.470  3.861  2.780  3.089   \n",
       "Jul    160.342  19.550    31  5.172          7.588  3.824  2.753  3.059   \n",
       "Aug    174.642  19.119    31  5.634          8.265  4.117  2.964  3.293   \n",
       "Sep    181.105  19.362    30  6.037          8.856  4.441  3.197  3.553   \n",
       "Oct    194.080  19.800    31  6.261          9.184  4.660  3.355  3.728   \n",
       "Nov    195.502  20.594    30  6.517          9.560  4.953  3.566  3.962   \n",
       "Dec    191.895  21.938    31  6.190          9.081  4.869  3.506  3.895   \n",
       "\n",
       "        Vol_p      Vol_h  \n",
       "month                     \n",
       "Jan    91.332  40368.857  \n",
       "Feb    88.680  39196.434  \n",
       "Mar    84.070  37158.764  \n",
       "Apr    86.565  38261.667  \n",
       "May    79.766  35256.647  \n",
       "Jun    74.139  32769.242  \n",
       "Jul    73.419  32451.317  \n",
       "Aug    79.043  34937.009  \n",
       "Sep    85.260  37684.929  \n",
       "Oct    89.462  39542.420  \n",
       "Nov    95.089  42029.217  \n",
       "Dec    93.487  41321.041  "
      ]
     },
     "execution_count": 11,
     "metadata": {},
     "output_type": "execute_result"
    }
   ],
   "source": [
    "resultados[\"Vol_h\"] = resultados[\"Vol_p\"] * N_p_h\n",
    "resultados.round(decimals = 3)"
   ]
  },
  {
   "cell_type": "code",
   "execution_count": 12,
   "id": "74a6ef15",
   "metadata": {},
   "outputs": [
    {
     "data": {
      "text/html": [
       "<div>\n",
       "<style scoped>\n",
       "    .dataframe tbody tr th:only-of-type {\n",
       "        vertical-align: middle;\n",
       "    }\n",
       "\n",
       "    .dataframe tbody tr th {\n",
       "        vertical-align: top;\n",
       "    }\n",
       "\n",
       "    .dataframe thead th {\n",
       "        text-align: right;\n",
       "    }\n",
       "</style>\n",
       "<table border=\"1\" class=\"dataframe\">\n",
       "  <thead>\n",
       "    <tr style=\"text-align: right;\">\n",
       "      <th></th>\n",
       "      <th>H_m_0</th>\n",
       "      <th>T_med</th>\n",
       "      <th>days</th>\n",
       "      <th>H_d_0</th>\n",
       "      <th>H_d_0(mm/day)</th>\n",
       "      <th>ETo</th>\n",
       "      <th>ETc</th>\n",
       "      <th>RR</th>\n",
       "      <th>Vol_p</th>\n",
       "      <th>Vol_h</th>\n",
       "      <th>Vol_t</th>\n",
       "      <th>Vol_t(m3/dia)</th>\n",
       "    </tr>\n",
       "    <tr>\n",
       "      <th>month</th>\n",
       "      <th></th>\n",
       "      <th></th>\n",
       "      <th></th>\n",
       "      <th></th>\n",
       "      <th></th>\n",
       "      <th></th>\n",
       "      <th></th>\n",
       "      <th></th>\n",
       "      <th></th>\n",
       "      <th></th>\n",
       "      <th></th>\n",
       "      <th></th>\n",
       "    </tr>\n",
       "  </thead>\n",
       "  <tbody>\n",
       "    <tr>\n",
       "      <th>Jan</th>\n",
       "      <td>180.159</td>\n",
       "      <td>23.550</td>\n",
       "      <td>31</td>\n",
       "      <td>5.812</td>\n",
       "      <td>8.526</td>\n",
       "      <td>4.757</td>\n",
       "      <td>3.425</td>\n",
       "      <td>3.806</td>\n",
       "      <td>91.332</td>\n",
       "      <td>40368.857</td>\n",
       "      <td>201844.284</td>\n",
       "      <td>201.844</td>\n",
       "    </tr>\n",
       "    <tr>\n",
       "      <th>Feb</th>\n",
       "      <td>155.923</td>\n",
       "      <td>24.100</td>\n",
       "      <td>28</td>\n",
       "      <td>5.569</td>\n",
       "      <td>8.169</td>\n",
       "      <td>4.619</td>\n",
       "      <td>3.325</td>\n",
       "      <td>3.695</td>\n",
       "      <td>88.680</td>\n",
       "      <td>39196.434</td>\n",
       "      <td>195982.168</td>\n",
       "      <td>195.982</td>\n",
       "    </tr>\n",
       "    <tr>\n",
       "      <th>Mar</th>\n",
       "      <td>163.998</td>\n",
       "      <td>24.012</td>\n",
       "      <td>31</td>\n",
       "      <td>5.290</td>\n",
       "      <td>7.761</td>\n",
       "      <td>4.379</td>\n",
       "      <td>3.153</td>\n",
       "      <td>3.503</td>\n",
       "      <td>84.070</td>\n",
       "      <td>37158.764</td>\n",
       "      <td>185793.822</td>\n",
       "      <td>185.794</td>\n",
       "    </tr>\n",
       "    <tr>\n",
       "      <th>Apr</th>\n",
       "      <td>167.040</td>\n",
       "      <td>23.106</td>\n",
       "      <td>30</td>\n",
       "      <td>5.568</td>\n",
       "      <td>8.168</td>\n",
       "      <td>4.509</td>\n",
       "      <td>3.246</td>\n",
       "      <td>3.607</td>\n",
       "      <td>86.565</td>\n",
       "      <td>38261.667</td>\n",
       "      <td>191308.335</td>\n",
       "      <td>191.308</td>\n",
       "    </tr>\n",
       "    <tr>\n",
       "      <th>May</th>\n",
       "      <td>163.990</td>\n",
       "      <td>21.875</td>\n",
       "      <td>31</td>\n",
       "      <td>5.290</td>\n",
       "      <td>7.760</td>\n",
       "      <td>4.154</td>\n",
       "      <td>2.991</td>\n",
       "      <td>3.324</td>\n",
       "      <td>79.766</td>\n",
       "      <td>35256.647</td>\n",
       "      <td>176283.235</td>\n",
       "      <td>176.283</td>\n",
       "    </tr>\n",
       "    <tr>\n",
       "      <th>Jun</th>\n",
       "      <td>152.752</td>\n",
       "      <td>20.512</td>\n",
       "      <td>30</td>\n",
       "      <td>5.092</td>\n",
       "      <td>7.470</td>\n",
       "      <td>3.861</td>\n",
       "      <td>2.780</td>\n",
       "      <td>3.089</td>\n",
       "      <td>74.139</td>\n",
       "      <td>32769.242</td>\n",
       "      <td>163846.210</td>\n",
       "      <td>163.846</td>\n",
       "    </tr>\n",
       "    <tr>\n",
       "      <th>Jul</th>\n",
       "      <td>160.342</td>\n",
       "      <td>19.550</td>\n",
       "      <td>31</td>\n",
       "      <td>5.172</td>\n",
       "      <td>7.588</td>\n",
       "      <td>3.824</td>\n",
       "      <td>2.753</td>\n",
       "      <td>3.059</td>\n",
       "      <td>73.419</td>\n",
       "      <td>32451.317</td>\n",
       "      <td>162256.585</td>\n",
       "      <td>162.257</td>\n",
       "    </tr>\n",
       "    <tr>\n",
       "      <th>Aug</th>\n",
       "      <td>174.642</td>\n",
       "      <td>19.119</td>\n",
       "      <td>31</td>\n",
       "      <td>5.634</td>\n",
       "      <td>8.265</td>\n",
       "      <td>4.117</td>\n",
       "      <td>2.964</td>\n",
       "      <td>3.293</td>\n",
       "      <td>79.043</td>\n",
       "      <td>34937.009</td>\n",
       "      <td>174685.047</td>\n",
       "      <td>174.685</td>\n",
       "    </tr>\n",
       "    <tr>\n",
       "      <th>Sep</th>\n",
       "      <td>181.105</td>\n",
       "      <td>19.362</td>\n",
       "      <td>30</td>\n",
       "      <td>6.037</td>\n",
       "      <td>8.856</td>\n",
       "      <td>4.441</td>\n",
       "      <td>3.197</td>\n",
       "      <td>3.553</td>\n",
       "      <td>85.260</td>\n",
       "      <td>37684.929</td>\n",
       "      <td>188424.644</td>\n",
       "      <td>188.425</td>\n",
       "    </tr>\n",
       "    <tr>\n",
       "      <th>Oct</th>\n",
       "      <td>194.080</td>\n",
       "      <td>19.800</td>\n",
       "      <td>31</td>\n",
       "      <td>6.261</td>\n",
       "      <td>9.184</td>\n",
       "      <td>4.660</td>\n",
       "      <td>3.355</td>\n",
       "      <td>3.728</td>\n",
       "      <td>89.462</td>\n",
       "      <td>39542.420</td>\n",
       "      <td>197712.101</td>\n",
       "      <td>197.712</td>\n",
       "    </tr>\n",
       "    <tr>\n",
       "      <th>Nov</th>\n",
       "      <td>195.502</td>\n",
       "      <td>20.594</td>\n",
       "      <td>30</td>\n",
       "      <td>6.517</td>\n",
       "      <td>9.560</td>\n",
       "      <td>4.953</td>\n",
       "      <td>3.566</td>\n",
       "      <td>3.962</td>\n",
       "      <td>95.089</td>\n",
       "      <td>42029.217</td>\n",
       "      <td>210146.083</td>\n",
       "      <td>210.146</td>\n",
       "    </tr>\n",
       "    <tr>\n",
       "      <th>Dec</th>\n",
       "      <td>191.895</td>\n",
       "      <td>21.938</td>\n",
       "      <td>31</td>\n",
       "      <td>6.190</td>\n",
       "      <td>9.081</td>\n",
       "      <td>4.869</td>\n",
       "      <td>3.506</td>\n",
       "      <td>3.895</td>\n",
       "      <td>93.487</td>\n",
       "      <td>41321.041</td>\n",
       "      <td>206605.203</td>\n",
       "      <td>206.605</td>\n",
       "    </tr>\n",
       "  </tbody>\n",
       "</table>\n",
       "</div>"
      ],
      "text/plain": [
       "         H_m_0   T_med  days  H_d_0  H_d_0(mm/day)    ETo    ETc     RR  \\\n",
       "month                                                                     \n",
       "Jan    180.159  23.550    31  5.812          8.526  4.757  3.425  3.806   \n",
       "Feb    155.923  24.100    28  5.569          8.169  4.619  3.325  3.695   \n",
       "Mar    163.998  24.012    31  5.290          7.761  4.379  3.153  3.503   \n",
       "Apr    167.040  23.106    30  5.568          8.168  4.509  3.246  3.607   \n",
       "May    163.990  21.875    31  5.290          7.760  4.154  2.991  3.324   \n",
       "Jun    152.752  20.512    30  5.092          7.470  3.861  2.780  3.089   \n",
       "Jul    160.342  19.550    31  5.172          7.588  3.824  2.753  3.059   \n",
       "Aug    174.642  19.119    31  5.634          8.265  4.117  2.964  3.293   \n",
       "Sep    181.105  19.362    30  6.037          8.856  4.441  3.197  3.553   \n",
       "Oct    194.080  19.800    31  6.261          9.184  4.660  3.355  3.728   \n",
       "Nov    195.502  20.594    30  6.517          9.560  4.953  3.566  3.962   \n",
       "Dec    191.895  21.938    31  6.190          9.081  4.869  3.506  3.895   \n",
       "\n",
       "        Vol_p      Vol_h       Vol_t  Vol_t(m3/dia)  \n",
       "month                                                \n",
       "Jan    91.332  40368.857  201844.284        201.844  \n",
       "Feb    88.680  39196.434  195982.168        195.982  \n",
       "Mar    84.070  37158.764  185793.822        185.794  \n",
       "Apr    86.565  38261.667  191308.335        191.308  \n",
       "May    79.766  35256.647  176283.235        176.283  \n",
       "Jun    74.139  32769.242  163846.210        163.846  \n",
       "Jul    73.419  32451.317  162256.585        162.257  \n",
       "Aug    79.043  34937.009  174685.047        174.685  \n",
       "Sep    85.260  37684.929  188424.644        188.425  \n",
       "Oct    89.462  39542.420  197712.101        197.712  \n",
       "Nov    95.089  42029.217  210146.083        210.146  \n",
       "Dec    93.487  41321.041  206605.203        206.605  "
      ]
     },
     "execution_count": 12,
     "metadata": {},
     "output_type": "execute_result"
    }
   ],
   "source": [
    "N_h = 5 #Número de hectáreas.\n",
    "resultados[\"Vol_t\"] = resultados[\"Vol_h\"] * N_h\n",
    "resultados[\"Vol_t(m3/dia)\"] = resultados[\"Vol_t\"]/1000\n",
    "resultados.round(decimals = 3)"
   ]
  },
  {
   "cell_type": "code",
   "execution_count": 13,
   "id": "e0391dad",
   "metadata": {},
   "outputs": [
    {
     "name": "stdout",
     "output_type": "stream",
     "text": [
      "Volumen total máximo de riego diario = 210.146 m3\n",
      "Volumen del embalse = 504.351 m3\n"
     ]
    }
   ],
   "source": [
    "Vol_t_max = resultados[\"Vol_t(m3/dia)\"].max()\n",
    "print(f\"Volumen total máximo de riego diario = {round(Vol_t_max, 3)} m3\")\n",
    "\n",
    "D_a = 2 #Días de almacenamiento.\n",
    "fs = 1.2 #Factor de seguridad.\n",
    "\n",
    "Vol_emb = Vol_t_max * D_a * fs\n",
    "print(f\"Volumen del embalse = {round(Vol_emb, 3)} m3\")"
   ]
  },
  {
   "cell_type": "markdown",
   "id": "842b9217",
   "metadata": {},
   "source": [
    "#### Por simplicidad se toma un volumen de embalse igual a 500 m3."
   ]
  },
  {
   "cell_type": "code",
   "execution_count": 14,
   "id": "c6cb6854",
   "metadata": {},
   "outputs": [
    {
     "name": "stdout",
     "output_type": "stream",
     "text": [
      "Ángulo óptimo para la mayor captación de energía solar anual = 8\n"
     ]
    }
   ],
   "source": [
    "beta_opt = optimum_solar_panel_tilt_angle(latitude = latitud, longitude = longitud)\n",
    "print(f\"Ángulo óptimo para la mayor captación de energía solar anual = {beta_opt}\")"
   ]
  },
  {
   "cell_type": "markdown",
   "id": "71d8a79b",
   "metadata": {},
   "source": [
    "#### Tomamos como ángulo de inclinación óptimo 10° ya que éste es el valor mínimo recomendado."
   ]
  },
  {
   "cell_type": "code",
   "execution_count": 15,
   "id": "875d6c62",
   "metadata": {},
   "outputs": [
    {
     "data": {
      "text/plain": [
       "0     2081.428\n",
       "8     2097.683\n",
       "10    2097.062\n",
       "20    2065.838\n",
       "30    1987.717\n",
       "40    1864.691\n",
       "50    1699.815\n",
       "60    1497.732\n",
       "70    1266.198\n",
       "80    1025.600\n",
       "90     808.339\n",
       "dtype: float64"
      ]
     },
     "execution_count": 15,
     "metadata": {},
     "output_type": "execute_result"
    }
   ],
   "source": [
    "irradiaciones_anuales = {}\n",
    "angulos = [0, 8, 10, 20, 30, 40, 50, 60, 70, 80, 90] # en [°].\n",
    "for angulo in angulos:\n",
    "    datos_anual = pd.read_csv(url(latitud, longitud, angulo), header = 3, skipfooter = 4, sep = '\\t\\t', engine = 'python')\n",
    "    datos_anual.rename(columns = {\"H(i)_m\": \"H_m\"}, inplace = True)\n",
    "    irradiacion_por_ano = datos_anual.groupby(\"year\")[\"H_m\"].sum()\n",
    "    irradiacion_promedio = irradiacion_por_ano.mean()\n",
    "    irradiaciones_anuales[angulo] = irradiacion_promedio\n",
    "irradiaciones_anuales = pd.Series(irradiaciones_anuales)\n",
    "irradiaciones_anuales.round(decimals = 3)"
   ]
  },
  {
   "cell_type": "code",
   "execution_count": 16,
   "id": "16c30399",
   "metadata": {},
   "outputs": [
    {
     "data": {
      "text/html": [
       "<div>\n",
       "<style scoped>\n",
       "    .dataframe tbody tr th:only-of-type {\n",
       "        vertical-align: middle;\n",
       "    }\n",
       "\n",
       "    .dataframe tbody tr th {\n",
       "        vertical-align: top;\n",
       "    }\n",
       "\n",
       "    .dataframe thead th {\n",
       "        text-align: right;\n",
       "    }\n",
       "</style>\n",
       "<table border=\"1\" class=\"dataframe\">\n",
       "  <thead>\n",
       "    <tr style=\"text-align: right;\">\n",
       "      <th></th>\n",
       "      <th>year</th>\n",
       "      <th>month</th>\n",
       "      <th>H_m</th>\n",
       "      <th>T2m</th>\n",
       "    </tr>\n",
       "  </thead>\n",
       "  <tbody>\n",
       "    <tr>\n",
       "      <th>0</th>\n",
       "      <td>2005</td>\n",
       "      <td>Jan</td>\n",
       "      <td>184.49</td>\n",
       "      <td>24.2</td>\n",
       "    </tr>\n",
       "    <tr>\n",
       "      <th>1</th>\n",
       "      <td>2005</td>\n",
       "      <td>Feb</td>\n",
       "      <td>141.21</td>\n",
       "      <td>23.5</td>\n",
       "    </tr>\n",
       "    <tr>\n",
       "      <th>2</th>\n",
       "      <td>2005</td>\n",
       "      <td>Mar</td>\n",
       "      <td>158.89</td>\n",
       "      <td>23.1</td>\n",
       "    </tr>\n",
       "    <tr>\n",
       "      <th>3</th>\n",
       "      <td>2005</td>\n",
       "      <td>Apr</td>\n",
       "      <td>188.40</td>\n",
       "      <td>23.4</td>\n",
       "    </tr>\n",
       "    <tr>\n",
       "      <th>4</th>\n",
       "      <td>2005</td>\n",
       "      <td>May</td>\n",
       "      <td>185.65</td>\n",
       "      <td>21.1</td>\n",
       "    </tr>\n",
       "    <tr>\n",
       "      <th>...</th>\n",
       "      <td>...</td>\n",
       "      <td>...</td>\n",
       "      <td>...</td>\n",
       "      <td>...</td>\n",
       "    </tr>\n",
       "    <tr>\n",
       "      <th>187</th>\n",
       "      <td>2020</td>\n",
       "      <td>Aug</td>\n",
       "      <td>193.53</td>\n",
       "      <td>18.8</td>\n",
       "    </tr>\n",
       "    <tr>\n",
       "      <th>188</th>\n",
       "      <td>2020</td>\n",
       "      <td>Sep</td>\n",
       "      <td>192.76</td>\n",
       "      <td>19.3</td>\n",
       "    </tr>\n",
       "    <tr>\n",
       "      <th>189</th>\n",
       "      <td>2020</td>\n",
       "      <td>Oct</td>\n",
       "      <td>198.31</td>\n",
       "      <td>20.3</td>\n",
       "    </tr>\n",
       "    <tr>\n",
       "      <th>190</th>\n",
       "      <td>2020</td>\n",
       "      <td>Nov</td>\n",
       "      <td>188.25</td>\n",
       "      <td>20.3</td>\n",
       "    </tr>\n",
       "    <tr>\n",
       "      <th>191</th>\n",
       "      <td>2020</td>\n",
       "      <td>Dec</td>\n",
       "      <td>159.04</td>\n",
       "      <td>20.9</td>\n",
       "    </tr>\n",
       "  </tbody>\n",
       "</table>\n",
       "<p>192 rows × 4 columns</p>\n",
       "</div>"
      ],
      "text/plain": [
       "     year month     H_m   T2m\n",
       "0    2005   Jan  184.49  24.2\n",
       "1    2005   Feb  141.21  23.5\n",
       "2    2005   Mar  158.89  23.1\n",
       "3    2005   Apr  188.40  23.4\n",
       "4    2005   May  185.65  21.1\n",
       "..    ...   ...     ...   ...\n",
       "187  2020   Aug  193.53  18.8\n",
       "188  2020   Sep  192.76  19.3\n",
       "189  2020   Oct  198.31  20.3\n",
       "190  2020   Nov  188.25  20.3\n",
       "191  2020   Dec  159.04  20.9\n",
       "\n",
       "[192 rows x 4 columns]"
      ]
     },
     "execution_count": 16,
     "metadata": {},
     "output_type": "execute_result"
    }
   ],
   "source": [
    "beta_opt = 10 #Ángulo de inclinación óptimo seleccionado.\n",
    "datos_10 = pd.read_csv(url(latitud, longitud, beta_opt), header = 3, skipfooter = 4, sep = '\\t\\t', engine = 'python')\n",
    "datos_10.rename(columns = {\"H(i)_m\": \"H_m\"}, inplace = True)\n",
    "meses = [\"Jan\", \"Feb\", \"Mar\", \"Apr\", \"May\", \"Jun\", \"Jul\", \"Aug\", \"Sep\", \"Oct\", \"Nov\", \"Dec\"]\n",
    "datos_10[\"month\"] = pd.Categorical(datos_10[\"month\"], categories = meses, ordered = True)\n",
    "datos_10"
   ]
  },
  {
   "cell_type": "code",
   "execution_count": 17,
   "id": "4eeb7d7a",
   "metadata": {},
   "outputs": [
    {
     "data": {
      "text/html": [
       "<div>\n",
       "<style scoped>\n",
       "    .dataframe tbody tr th:only-of-type {\n",
       "        vertical-align: middle;\n",
       "    }\n",
       "\n",
       "    .dataframe tbody tr th {\n",
       "        vertical-align: top;\n",
       "    }\n",
       "\n",
       "    .dataframe thead th {\n",
       "        text-align: right;\n",
       "    }\n",
       "</style>\n",
       "<table border=\"1\" class=\"dataframe\">\n",
       "  <thead>\n",
       "    <tr style=\"text-align: right;\">\n",
       "      <th></th>\n",
       "      <th>H_m</th>\n",
       "      <th>days</th>\n",
       "      <th>H_d</th>\n",
       "      <th>HSP</th>\n",
       "    </tr>\n",
       "    <tr>\n",
       "      <th>month</th>\n",
       "      <th></th>\n",
       "      <th></th>\n",
       "      <th></th>\n",
       "      <th></th>\n",
       "    </tr>\n",
       "  </thead>\n",
       "  <tbody>\n",
       "    <tr>\n",
       "      <th>Jan</th>\n",
       "      <td>168.979</td>\n",
       "      <td>31</td>\n",
       "      <td>5.451</td>\n",
       "      <td>5.451</td>\n",
       "    </tr>\n",
       "    <tr>\n",
       "      <th>Feb</th>\n",
       "      <td>150.778</td>\n",
       "      <td>28</td>\n",
       "      <td>5.385</td>\n",
       "      <td>5.385</td>\n",
       "    </tr>\n",
       "    <tr>\n",
       "      <th>Mar</th>\n",
       "      <td>164.026</td>\n",
       "      <td>31</td>\n",
       "      <td>5.291</td>\n",
       "      <td>5.291</td>\n",
       "    </tr>\n",
       "    <tr>\n",
       "      <th>Apr</th>\n",
       "      <td>174.005</td>\n",
       "      <td>30</td>\n",
       "      <td>5.800</td>\n",
       "      <td>5.800</td>\n",
       "    </tr>\n",
       "    <tr>\n",
       "      <th>May</th>\n",
       "      <td>176.954</td>\n",
       "      <td>31</td>\n",
       "      <td>5.708</td>\n",
       "      <td>5.708</td>\n",
       "    </tr>\n",
       "    <tr>\n",
       "      <th>Jun</th>\n",
       "      <td>167.651</td>\n",
       "      <td>30</td>\n",
       "      <td>5.588</td>\n",
       "      <td>5.588</td>\n",
       "    </tr>\n",
       "    <tr>\n",
       "      <th>Jul</th>\n",
       "      <td>174.518</td>\n",
       "      <td>31</td>\n",
       "      <td>5.630</td>\n",
       "      <td>5.630</td>\n",
       "    </tr>\n",
       "    <tr>\n",
       "      <th>Aug</th>\n",
       "      <td>184.549</td>\n",
       "      <td>31</td>\n",
       "      <td>5.953</td>\n",
       "      <td>5.953</td>\n",
       "    </tr>\n",
       "    <tr>\n",
       "      <th>Sep</th>\n",
       "      <td>184.101</td>\n",
       "      <td>30</td>\n",
       "      <td>6.137</td>\n",
       "      <td>6.137</td>\n",
       "    </tr>\n",
       "    <tr>\n",
       "      <th>Oct</th>\n",
       "      <td>189.511</td>\n",
       "      <td>31</td>\n",
       "      <td>6.113</td>\n",
       "      <td>6.113</td>\n",
       "    </tr>\n",
       "    <tr>\n",
       "      <th>Nov</th>\n",
       "      <td>184.170</td>\n",
       "      <td>30</td>\n",
       "      <td>6.139</td>\n",
       "      <td>6.139</td>\n",
       "    </tr>\n",
       "    <tr>\n",
       "      <th>Dec</th>\n",
       "      <td>177.820</td>\n",
       "      <td>31</td>\n",
       "      <td>5.736</td>\n",
       "      <td>5.736</td>\n",
       "    </tr>\n",
       "  </tbody>\n",
       "</table>\n",
       "</div>"
      ],
      "text/plain": [
       "           H_m  days    H_d    HSP\n",
       "month                             \n",
       "Jan    168.979    31  5.451  5.451\n",
       "Feb    150.778    28  5.385  5.385\n",
       "Mar    164.026    31  5.291  5.291\n",
       "Apr    174.005    30  5.800  5.800\n",
       "May    176.954    31  5.708  5.708\n",
       "Jun    167.651    30  5.588  5.588\n",
       "Jul    174.518    31  5.630  5.630\n",
       "Aug    184.549    31  5.953  5.953\n",
       "Sep    184.101    30  6.137  6.137\n",
       "Oct    189.511    31  6.113  6.113\n",
       "Nov    184.170    30  6.139  6.139\n",
       "Dec    177.820    31  5.736  5.736"
      ]
     },
     "execution_count": 17,
     "metadata": {},
     "output_type": "execute_result"
    }
   ],
   "source": [
    "irradiacion_10 = datos_10.groupby([\"month\"])[[\"H_m\"]].mean()\n",
    "irradiacion_10[\"days\"] = np.array([31, 28, 31, 30, 31, 30, 31, 31, 30, 31, 30, 31]) #Número de días de cada mes.\n",
    "irradiacion_10[\"H_d\"] = irradiacion_10[\"H_m\"]/irradiacion_10[\"days\"]\n",
    "irradiacion_10[\"HSP\"] = irradiacion_10[\"H_d\"]/1\n",
    "irradiacion_10.round(decimals = 3)"
   ]
  },
  {
   "cell_type": "code",
   "execution_count": 18,
   "id": "d1766a62",
   "metadata": {},
   "outputs": [
    {
     "data": {
      "text/plain": [
       "month\n",
       "Jan    37.029\n",
       "Feb    36.395\n",
       "Mar    35.114\n",
       "Apr    32.983\n",
       "May    30.882\n",
       "Jun    29.319\n",
       "Jul    28.822\n",
       "Aug    29.343\n",
       "Sep    30.705\n",
       "Oct    32.342\n",
       "Nov    34.231\n",
       "Dec    36.018\n",
       "dtype: float64"
      ]
     },
     "execution_count": 18,
     "metadata": {},
     "output_type": "execute_result"
    }
   ],
   "source": [
    "caudal_bomba_mes = resultados[\"Vol_t(m3/dia)\"]/irradiacion_10[\"HSP\"]\n",
    "caudal_bomba_mes.round(decimals = 3)"
   ]
  },
  {
   "cell_type": "code",
   "execution_count": 19,
   "id": "c5c71000",
   "metadata": {},
   "outputs": [
    {
     "name": "stdout",
     "output_type": "stream",
     "text": [
      "Caudal de la bomba = 48.138 m3/h\n"
     ]
    }
   ],
   "source": [
    "fs = 1.3 #Factor de seguridad.\n",
    "Caudal_bomba = caudal_bomba_mes.max() * fs\n",
    "print(f\"Caudal de la bomba = {Caudal_bomba:.3f} m3/h\")"
   ]
  },
  {
   "cell_type": "markdown",
   "id": "973775e6",
   "metadata": {},
   "source": [
    "#### Por simplicidad se toma un caudal de bombeo de 48 m3/h."
   ]
  },
  {
   "cell_type": "code",
   "execution_count": 20,
   "id": "f08cdff0",
   "metadata": {},
   "outputs": [
    {
     "name": "stdout",
     "output_type": "stream",
     "text": [
      "Número de plantas en la tubería lateral = 63\n",
      "Caudal en el inicio del lateral = 1008 l/h\n",
      "Longitud ficticia del lateral = 300.0 m\n"
     ]
    }
   ],
   "source": [
    "L_lat = 250 #Longitud del lateral [m].\n",
    "N_p_lat = ceil(L_lat/S_p) #Número de plantas en un lateral.\n",
    "print(f\"Número de plantas en la tubería lateral = {N_p_lat}\")\n",
    "Caudal_lat = N_p_lat * N_g_p * Caudal_g\n",
    "print(f\"Caudal en el inicio del lateral = {Caudal_lat} l/h\")\n",
    "L_f = 1.2 * L_lat\n",
    "print(f\"Longitud ficticia del lateral = {L_f} m\")"
   ]
  },
  {
   "cell_type": "code",
   "execution_count": 21,
   "id": "a132e366",
   "metadata": {},
   "outputs": [
    {
     "name": "stdout",
     "output_type": "stream",
     "text": [
      "Diámetro del lateral = 15.416 mm\n"
     ]
    }
   ],
   "source": [
    "v_lat = 1.5 #Velocidad máxima en el lateral [m/s].\n",
    "D_lat = 0.5947*(Caudal_lat/v_lat)**0.5\n",
    "print(f\"Diámetro del lateral = {round(D_lat, 3)} mm\")"
   ]
  },
  {
   "cell_type": "markdown",
   "id": "3976aa39",
   "metadata": {},
   "source": [
    "#### Se elige una tubería comercial que presente un diámetro interior mayor. En este caso se selecciona una tubería de polietileno de 4 Bar con 32 mm de diámetro nominal, el cual presenta un diámetro interior de 28 mm."
   ]
  },
  {
   "cell_type": "code",
   "execution_count": 22,
   "id": "e03a46e5",
   "metadata": {},
   "outputs": [
    {
     "name": "stdout",
     "output_type": "stream",
     "text": [
      "Pérdida de carga en el lateral = 1.334 m\n"
     ]
    }
   ],
   "source": [
    "D_lat = 28 #Diámetro interior de la tubería lateral seleccionada [mm].\n",
    "F_c = 0.372 #Factor de Christiansen.\n",
    "h_L_lat = 0.496 * (Caudal_lat**1.75) * F_c * L_f/(D_lat**4.75)\n",
    "print(f\"Pérdida de carga en el lateral = {h_L_lat:.3f} m\")"
   ]
  },
  {
   "cell_type": "code",
   "execution_count": 23,
   "id": "1cb1d9c1",
   "metadata": {},
   "outputs": [
    {
     "name": "stdout",
     "output_type": "stream",
     "text": [
      "Número de laterales por portalateral = 17\n"
     ]
    }
   ],
   "source": [
    "L_pl = 100 #Longitud del portalateral [m].\n",
    "N_lat_pl = ceil(L_pl/S_s)\n",
    "print(f\"Número de laterales por portalateral = {N_lat_pl}\")"
   ]
  },
  {
   "cell_type": "code",
   "execution_count": 24,
   "id": "3b2f1838",
   "metadata": {},
   "outputs": [
    {
     "name": "stdout",
     "output_type": "stream",
     "text": [
      "Caudal en el origen del portalateral = 17136 l/h\n"
     ]
    }
   ],
   "source": [
    "Caudal_pl = N_lat_pl * Caudal_lat\n",
    "print(f\"Caudal en el origen del portalateral = {Caudal_pl} l/h\")"
   ]
  },
  {
   "cell_type": "code",
   "execution_count": 25,
   "id": "3338b74d",
   "metadata": {},
   "outputs": [
    {
     "name": "stdout",
     "output_type": "stream",
     "text": [
      "Longitud ficticia del portalateral = 120.0 m\n"
     ]
    }
   ],
   "source": [
    "L_f = 1.2 * L_pl\n",
    "print(f\"Longitud ficticia del portalateral = {L_f} m\")"
   ]
  },
  {
   "cell_type": "code",
   "execution_count": 26,
   "id": "f071188d",
   "metadata": {},
   "outputs": [
    {
     "name": "stdout",
     "output_type": "stream",
     "text": [
      "Diámetro del portalateral = 49.236 mm\n"
     ]
    }
   ],
   "source": [
    "v_pl = 2.5 #Velocidad máxima en el portalateral [m/s].\n",
    "D_pl = 0.5947*(Caudal_pl/v_pl)**0.5\n",
    "print(f\"Diámetro del portalateral = {round(D_pl, 3)} mm\")"
   ]
  },
  {
   "cell_type": "markdown",
   "id": "30f560b8",
   "metadata": {},
   "source": [
    "#### Se elige una tubería comercial que presente un diámetro interior mayor. En este caso se selecciona una tubería comercial de PVC de 5 Bar con 2” de diámetro nominal, el cual presenta un diámetro interior de 56.4 mm."
   ]
  },
  {
   "cell_type": "code",
   "execution_count": 27,
   "id": "43d3bd62",
   "metadata": {},
   "outputs": [
    {
     "name": "stdout",
     "output_type": "stream",
     "text": [
      "Pérdida de carga en el portalateral = 2.883 m\n"
     ]
    }
   ],
   "source": [
    "D_pl = 56.4 #Diámetro interno del portalateral seleccionado [mm].\n",
    "F_c = 0.393 #Factor de Christiansen.\n",
    "h_L_pl = 0.496 * (Caudal_pl**1.75) * F_c * L_f/(D_pl**4.75)\n",
    "print(f\"Pérdida de carga en el portalateral = {h_L_pl:.3f} m\")"
   ]
  },
  {
   "cell_type": "markdown",
   "id": "2e7e943d",
   "metadata": {},
   "source": [
    "#### El rango de presión del gotero compensante seleccionado para un adecuado funcionamiento está entre 5 mca y 40 mca. Entonces, podemos establecer la siguiente presión mínima en las subunidades de riego: 9 mca."
   ]
  },
  {
   "cell_type": "code",
   "execution_count": 28,
   "id": "0ba72734",
   "metadata": {},
   "outputs": [
    {
     "name": "stdout",
     "output_type": "stream",
     "text": [
      "Presión necesaria en el origen del portalateral = 11.883 mca\n"
     ]
    }
   ],
   "source": [
    "P_min_su = 9 #presión mínima en la subunidad [mca].\n",
    "P_ini_pl = P_min_su + h_L_pl\n",
    "print(f\"Presión necesaria en el origen del portalateral = {round(P_ini_pl, 3)} mca\")"
   ]
  },
  {
   "cell_type": "code",
   "execution_count": 29,
   "id": "93629e44",
   "metadata": {},
   "outputs": [
    {
     "name": "stdout",
     "output_type": "stream",
     "text": [
      "Presión máxima en la subunidad = 16.549 mca\n"
     ]
    }
   ],
   "source": [
    "Z_ini_lat = 144 #Cota del inicio del lateral [msnm].\n",
    "Z_fin_lat = 138 #Cota del final del lateral [msnm].\n",
    "P_max_su = P_ini_pl - h_L_lat + (Z_ini_lat - Z_fin_lat)\n",
    "print(f\"Presión máxima en la subunidad = {round(P_max_su, 3)} mca\")"
   ]
  },
  {
   "cell_type": "code",
   "execution_count": 30,
   "id": "81c19de8",
   "metadata": {},
   "outputs": [
    {
     "name": "stdout",
     "output_type": "stream",
     "text": [
      "Caudal en la primaria = 34272 l/h\n"
     ]
    }
   ],
   "source": [
    "N_sec = 2 #Número de tuberías secundarias (en este caso es igual al número de portalaterales).\n",
    "Caudal_pri = N_sec * Caudal_pl\n",
    "print(f\"Caudal en la primaria = {Caudal_pri} l/h\")"
   ]
  },
  {
   "cell_type": "code",
   "execution_count": 31,
   "id": "54384611",
   "metadata": {},
   "outputs": [
    {
     "name": "stdout",
     "output_type": "stream",
     "text": [
      "Diámetro de la primaria = 69.63 mm\n"
     ]
    }
   ],
   "source": [
    "v_pri = 2.5 #Velocidad máxima en la primaria [m/s].\n",
    "D_pri = 0.5947 * np.sqrt(Caudal_pri/v_pri)\n",
    "print(f\"Diámetro de la primaria = {round(D_pri, 3)} mm\")"
   ]
  },
  {
   "cell_type": "markdown",
   "id": "8313b08c",
   "metadata": {},
   "source": [
    "#### Se elige una tubería comercial que presente un diámetro interior mayor. En este caso se selecciona una tubería comercial de PVC de 5 Bar con 4” de diámetro nominal, el cual presenta un diámetro interior de 108.4 mm."
   ]
  },
  {
   "cell_type": "code",
   "execution_count": 32,
   "id": "1cb8f8c4",
   "metadata": {},
   "outputs": [
    {
     "name": "stdout",
     "output_type": "stream",
     "text": [
      "Longitud ficticia de la primaria = 436.99999999999994 m\n"
     ]
    }
   ],
   "source": [
    "D_pri = 108.4 #Diámetro interno de la tubería primaria seleccionada [mm].\n",
    "L_pri = 380 #Longitud de la primaria [m].\n",
    "L_f = 1.15 * L_pri\n",
    "print(f\"Longitud ficticia de la primaria = {L_f} m\")"
   ]
  },
  {
   "cell_type": "code",
   "execution_count": 33,
   "id": "b03ec055",
   "metadata": {},
   "outputs": [
    {
     "name": "stdout",
     "output_type": "stream",
     "text": [
      "Pérdida de carga en la primaria = 4.034 m\n"
     ]
    }
   ],
   "source": [
    "h_L_pri = (0.496 * (Caudal_pri**1.75) * L_f)/(D_pri**4.75)\n",
    "print(f\"Pérdida de carga en la primaria = {h_L_pri:.3f} m\")"
   ]
  },
  {
   "cell_type": "code",
   "execution_count": 34,
   "id": "da2e7e37",
   "metadata": {},
   "outputs": [
    {
     "name": "stdout",
     "output_type": "stream",
     "text": [
      "Presión en el inicio del portalateral = 11.966 mca\n"
     ]
    }
   ],
   "source": [
    "P_ini_pri = 0 #Consideramos el caso extremo cuando el embalse está con poco nivel de agua.\n",
    "Z_ini_pri = 160 #Cota del inicio de la primaria [msnm].\n",
    "Z_fin_pri = 144 #Cota del final de la primaria [msnm].\n",
    "P_fin_pri = P_ini_pri - h_L_pri + (Z_ini_pri - Z_fin_pri)\n",
    "P_ini_pl = P_fin_pri\n",
    "print(f\"Presión en el inicio del portalateral = {round(P_ini_pl, 3)} mca\")"
   ]
  },
  {
   "cell_type": "markdown",
   "id": "169cd698",
   "metadata": {},
   "source": [
    "#### El resultado anterior indica que aún en la condición extrema en la cual el embalse se está vaciando, se tiene una presión garantizada en el inicio de la tubería portalateral de casi 12 mca. Este resultado está acorde con los 11.883 mca de presión necesaria al inicio de la tubería portalateral calculada anteriormente. Por lo tanto, el punto seleccionado como extremo superior de la tubería primaria es adecuado."
   ]
  },
  {
   "cell_type": "code",
   "execution_count": 35,
   "id": "ccef26ef",
   "metadata": {},
   "outputs": [
    {
     "name": "stdout",
     "output_type": "stream",
     "text": [
      "Diámetro de la tubería de impulsión = 82.404 mm\n"
     ]
    }
   ],
   "source": [
    "v_imp = 2.5 #Velocidad máxima en la tubería de impulsión [m/s].\n",
    "Caudal_bomba = 48000 #Caudal de la bomba [l/h].\n",
    "D_imp = 0.5947 * np.sqrt(Caudal_bomba/v_imp)\n",
    "print(f\"Diámetro de la tubería de impulsión = {round(D_imp, 3)} mm\")"
   ]
  },
  {
   "cell_type": "markdown",
   "id": "5acebe51",
   "metadata": {},
   "source": [
    "#### Se elige una tubería comercial que presente un diámetro interior mayor. En este caso, se debe elegir una tubería con una presión nominal adecuada que soporte la presión a la salida de la bomba. El cálculo de la presión a la salida de la bomba se determina posteriormente. Se opta por seleccionar una tubería comercial de PVC de 10 Bar con 4” de diámetro nominal, el cual presenta un diámetro interior de 103.2 mm."
   ]
  },
  {
   "cell_type": "code",
   "execution_count": 36,
   "id": "2e9a34fe",
   "metadata": {},
   "outputs": [
    {
     "name": "stdout",
     "output_type": "stream",
     "text": [
      "Velocidad real en la tubería de impulsión = 1.594 m/s\n"
     ]
    }
   ],
   "source": [
    "D_imp = 0.1032 #Diámetro interno de la tubería de impulsión seleccionada [m].\n",
    "v_imp = (Caudal_bomba/(1000*3600))/((np.pi/4)*(D_imp**2))\n",
    "print(f\"Velocidad real en la tubería de impulsión = {round(v_imp, 3)} m/s\")"
   ]
  },
  {
   "cell_type": "code",
   "execution_count": 37,
   "id": "8006459e",
   "metadata": {},
   "outputs": [],
   "source": [
    "#Considerando la temperatura del fluido bombeado en 20 °C, se tienen las siguientes propiedades:\n",
    "rho = 998 #Densidad del agua [kg/m3].\n",
    "mu = 1.002e-3 #Viscocidad dinámica del agua [kg/m-s]."
   ]
  },
  {
   "cell_type": "code",
   "execution_count": 38,
   "id": "2087f348",
   "metadata": {},
   "outputs": [
    {
     "name": "stdout",
     "output_type": "stream",
     "text": [
      "Número de Reynolds = 163844.542\n"
     ]
    }
   ],
   "source": [
    "Re = rho * v_imp * D_imp / mu\n",
    "print(f\"Número de Reynolds = {round(Re, 3)}\")"
   ]
  },
  {
   "cell_type": "markdown",
   "id": "6a5e6b5f",
   "metadata": {},
   "source": [
    "#### Como Re > 4000 se tiene un flujo turbulento y el factor de fricción para flujo turbulento se determina con la ecuación de Colebrook."
   ]
  },
  {
   "cell_type": "code",
   "execution_count": 39,
   "id": "af3b4e2c",
   "metadata": {},
   "outputs": [
    {
     "name": "stdout",
     "output_type": "stream",
     "text": [
      "Factor de fricción = 0.0162\n"
     ]
    }
   ],
   "source": [
    "import colebrook\n",
    "\n",
    "epsilon = 3e-7 #Rugosidad absoluta del PVC.\n",
    "\n",
    "f = colebrook.sjFriction(Re, epsilon/D_imp)\n",
    "print(f\"Factor de fricción = {round(f, 4)}\")"
   ]
  },
  {
   "cell_type": "code",
   "execution_count": 40,
   "id": "e29c3d1d",
   "metadata": {},
   "outputs": [
    {
     "name": "stdout",
     "output_type": "stream",
     "text": [
      "Pérdida de carga por fricción en la tubería de impulsión = 16.263 m\n"
     ]
    }
   ],
   "source": [
    "L_imp = 800 #Longitud de la tubería de impulsión [m].\n",
    "g = 9.81 #Aceleración de la gravedad [m/s2].\n",
    "h_L_friccion = f *(L_imp/D_imp)*(v_imp**2/(2*g))\n",
    "print(f\"Pérdida de carga por fricción en la tubería de impulsión = {round(h_L_friccion, 3)} m\")"
   ]
  },
  {
   "cell_type": "code",
   "execution_count": 41,
   "id": "1a68da50",
   "metadata": {},
   "outputs": [
    {
     "name": "stdout",
     "output_type": "stream",
     "text": [
      "Pérdida de carga en los codos = 0.252 m\n"
     ]
    }
   ],
   "source": [
    "Relacion_Longitud_equiv_cod = 30 #Relación de longitud equivalente para un codo estándar de 90°.\n",
    "n_cod = 4 #Número de codos.\n",
    "h_L_cod = n_cod * f * Relacion_Longitud_equiv_cod * (v_imp**2)/(2*g)\n",
    "print(f\"Pérdida de carga en los codos = {round(h_L_cod, 3)} m\")"
   ]
  },
  {
   "cell_type": "code",
   "execution_count": 42,
   "id": "0b5f148d",
   "metadata": {},
   "outputs": [
    {
     "name": "stdout",
     "output_type": "stream",
     "text": [
      "Pérdida de carga en la válvula de compuerta = 0.017 m\n"
     ]
    }
   ],
   "source": [
    "Relacion_Longitud_equiv_com = 8 #Relación de longitud equivalente para una válvula de compuerta totalmente abierta.\n",
    "n_com = 1 #Número de válvulas de compuerta.\n",
    "h_L_com = n_com * f * Relacion_Longitud_equiv_com * (v_imp**2)/(2*g)\n",
    "print(f\"Pérdida de carga en la válvula de compuerta = {round(h_L_com, 3)} m\")"
   ]
  },
  {
   "cell_type": "code",
   "execution_count": 43,
   "id": "24a72713",
   "metadata": {},
   "outputs": [
    {
     "name": "stdout",
     "output_type": "stream",
     "text": [
      "Pérdida de carga en la válvula de retención = 0.315 m\n"
     ]
    }
   ],
   "source": [
    "Relacion_Longitud_equiv_ret = 150 #Relación de longitud equivalente para una válvula de retención.\n",
    "n_ret = 1 #Número de válvulas de retención.\n",
    "h_L_ret = n_ret * f * Relacion_Longitud_equiv_ret * (v_imp**2)/(2*g)\n",
    "print(f\"Pérdida de carga en la válvula de retención = {round(h_L_ret, 3)} m\")"
   ]
  },
  {
   "cell_type": "code",
   "execution_count": 44,
   "id": "c81b974f",
   "metadata": {},
   "outputs": [
    {
     "name": "stdout",
     "output_type": "stream",
     "text": [
      "Pérdidas de carga menores = 0.583 m\n"
     ]
    }
   ],
   "source": [
    "h_L_menores = h_L_cod + h_L_com + h_L_ret\n",
    "print(f\"Pérdidas de carga menores = {round(h_L_menores, 3)} m\")"
   ]
  },
  {
   "cell_type": "code",
   "execution_count": 45,
   "id": "be5233a3",
   "metadata": {},
   "outputs": [
    {
     "name": "stdout",
     "output_type": "stream",
     "text": [
      "Pérdida de carga total = 16.846 m\n"
     ]
    }
   ],
   "source": [
    "h_L = h_L_friccion + h_L_menores\n",
    "print(f\"Pérdida de carga total = {round(h_L, 3)} m\")"
   ]
  },
  {
   "cell_type": "code",
   "execution_count": 46,
   "id": "83c43b78",
   "metadata": {},
   "outputs": [
    {
     "name": "stdout",
     "output_type": "stream",
     "text": [
      "Carga total de la bomba = 71.476 m\n"
     ]
    }
   ],
   "source": [
    "v_a = 0 #Velocidad en el punto a.\n",
    "Z_a = 108 #Cota del punto a [msnm].\n",
    "P_a = 0 #Presión en el punto a.\n",
    "\n",
    "v_b = v_imp #Velocidad en el punto b.\n",
    "Z_b = 162.5 #Cota del punto b [msnm].\n",
    "P_b = 0 #Presión en el punto b.\n",
    "\n",
    "h_bomba = P_b/(rho*g) + (v_b**2)/(2*g) + Z_b + h_L - P_a/(rho*g) - (v_a**2)/(2*g) - Z_a\n",
    "print(f\"Carga total de la bomba = {round(h_bomba, 3)} m\")"
   ]
  },
  {
   "cell_type": "code",
   "execution_count": 47,
   "id": "4c581aca",
   "metadata": {},
   "outputs": [
    {
     "name": "stdout",
     "output_type": "stream",
     "text": [
      "Presión en la salida de la bomba = 713193.944 Pa\n"
     ]
    }
   ],
   "source": [
    "v_s = v_imp #Velocidad en el punto s.\n",
    "Z_s = 106.5 #Cota del punto s [msnm].\n",
    "h_L_aYs = 0 #Pérdida de carga entre los puntos a y s.\n",
    "\n",
    "P_s = rho * g * (h_bomba + P_a/(rho*g) + (v_a**2)/(2*g) + Z_a - (v_s**2)/(2*g) - Z_s - h_L_aYs)\n",
    "print(f\"Presión en la salida de la bomba = {round(P_s, 3)} Pa\")"
   ]
  },
  {
   "cell_type": "code",
   "execution_count": 48,
   "id": "4fd2f0ee",
   "metadata": {},
   "outputs": [],
   "source": [
    "import colebrook\n",
    "Caudales_bomba = np.array([50, 100, 150, 200, 250, 300]) #en GMP.\n",
    "\n",
    "Reynolds = {}\n",
    "factores_friccion = {}\n",
    "perdidas_carga = {}\n",
    "Alturas_bomba_sistema = {}\n",
    "for caudal_bomba in Caudales_bomba:\n",
    "    v_imp = (4/np.pi)*(caudal_bomba*6.30901964e-5)/(D_imp**2) #En m/s.\n",
    "    \n",
    "    Re = rho * v_imp * D_imp/mu\n",
    "    Reynolds[caudal_bomba] = Re\n",
    "    \n",
    "    f = colebrook.sjFriction(Re, epsilon/D_imp)\n",
    "    factores_friccion[caudal_bomba] = f\n",
    "    \n",
    "    h_L_friccion = f * (L_imp/D_imp) * ((v_imp**2)/(2*g))\n",
    "    h_L_cod = n_cod * f * Relacion_Longitud_equiv_cod * ((v_imp**2)/(2*g))\n",
    "    h_L_com = 1 * f * Relacion_Longitud_equiv_com * ((v_imp**2)/(2*g))\n",
    "    h_L_ret = 1 * f * Relacion_Longitud_equiv_ret * ((v_imp**2)/(2*g))\n",
    "    h_L_menores = h_L_cod + h_L_com + h_L_ret\n",
    "    h_L = h_L_friccion + h_L_menores\n",
    "    perdidas_carga[caudal_bomba] = h_L\n",
    "    \n",
    "    h_bomba = P_b/(rho*g) + (v_b**2)/(2*g) + Z_b + h_L - P_a/(rho*g) - (v_a**2)/(2*g) - Z_a\n",
    "    Alturas_bomba_sistema[caudal_bomba] = round(h_bomba*3.2808398950131, 3) #En pies."
   ]
  },
  {
   "cell_type": "code",
   "execution_count": 49,
   "id": "0cec1dfa",
   "metadata": {},
   "outputs": [
    {
     "data": {
      "text/plain": [
       "50     183.432\n",
       "100    193.668\n",
       "150    208.965\n",
       "200    229.341\n",
       "250    254.186\n",
       "300    283.042\n",
       "dtype: float64"
      ]
     },
     "execution_count": 49,
     "metadata": {},
     "output_type": "execute_result"
    }
   ],
   "source": [
    "Alturas_bomba_sistema = pd.Series(Alturas_bomba_sistema)\n",
    "Alturas_bomba_sistema"
   ]
  },
  {
   "cell_type": "code",
   "execution_count": 50,
   "id": "a48cd187",
   "metadata": {},
   "outputs": [
    {
     "data": {
      "text/plain": [
       "50     320\n",
       "100    300\n",
       "150    265\n",
       "200    238\n",
       "250    200\n",
       "300    145\n",
       "dtype: int64"
      ]
     },
     "execution_count": 50,
     "metadata": {},
     "output_type": "execute_result"
    }
   ],
   "source": [
    "Alturas_bomba_6PWS230G150 = {50: 320, 100: 300, 150: 265, 200: 238, 250: 200, 300: 145} #Del catálogo de bombas.\n",
    "Alturas_bomba_6PWS230G150 = pd.Series(Alturas_bomba_6PWS230G150)\n",
    "Alturas_bomba_6PWS230G150"
   ]
  },
  {
   "cell_type": "code",
   "execution_count": 51,
   "id": "26665d21",
   "metadata": {},
   "outputs": [
    {
     "name": "stderr",
     "output_type": "stream",
     "text": [
      "C:\\Users\\josie\\anaconda3\\lib\\site-packages\\seaborn\\algorithms.py:85: RankWarning: Polyfit may be poorly conditioned\n",
      "  boot_dist.append(f(*sample, **func_kwargs))\n",
      "C:\\Users\\josie\\anaconda3\\lib\\site-packages\\seaborn\\algorithms.py:85: RankWarning: Polyfit may be poorly conditioned\n",
      "  boot_dist.append(f(*sample, **func_kwargs))\n",
      "C:\\Users\\josie\\anaconda3\\lib\\site-packages\\seaborn\\algorithms.py:85: RankWarning: Polyfit may be poorly conditioned\n",
      "  boot_dist.append(f(*sample, **func_kwargs))\n",
      "C:\\Users\\josie\\anaconda3\\lib\\site-packages\\seaborn\\algorithms.py:85: RankWarning: Polyfit may be poorly conditioned\n",
      "  boot_dist.append(f(*sample, **func_kwargs))\n",
      "C:\\Users\\josie\\anaconda3\\lib\\site-packages\\seaborn\\algorithms.py:85: RankWarning: Polyfit may be poorly conditioned\n",
      "  boot_dist.append(f(*sample, **func_kwargs))\n",
      "C:\\Users\\josie\\anaconda3\\lib\\site-packages\\seaborn\\algorithms.py:85: RankWarning: Polyfit may be poorly conditioned\n",
      "  boot_dist.append(f(*sample, **func_kwargs))\n",
      "C:\\Users\\josie\\anaconda3\\lib\\site-packages\\seaborn\\algorithms.py:85: RankWarning: Polyfit may be poorly conditioned\n",
      "  boot_dist.append(f(*sample, **func_kwargs))\n",
      "C:\\Users\\josie\\anaconda3\\lib\\site-packages\\seaborn\\algorithms.py:85: RankWarning: Polyfit may be poorly conditioned\n",
      "  boot_dist.append(f(*sample, **func_kwargs))\n",
      "C:\\Users\\josie\\anaconda3\\lib\\site-packages\\seaborn\\algorithms.py:85: RankWarning: Polyfit may be poorly conditioned\n",
      "  boot_dist.append(f(*sample, **func_kwargs))\n",
      "C:\\Users\\josie\\anaconda3\\lib\\site-packages\\seaborn\\algorithms.py:85: RankWarning: Polyfit may be poorly conditioned\n",
      "  boot_dist.append(f(*sample, **func_kwargs))\n",
      "C:\\Users\\josie\\anaconda3\\lib\\site-packages\\seaborn\\algorithms.py:85: RankWarning: Polyfit may be poorly conditioned\n",
      "  boot_dist.append(f(*sample, **func_kwargs))\n",
      "C:\\Users\\josie\\anaconda3\\lib\\site-packages\\seaborn\\algorithms.py:85: RankWarning: Polyfit may be poorly conditioned\n",
      "  boot_dist.append(f(*sample, **func_kwargs))\n",
      "C:\\Users\\josie\\anaconda3\\lib\\site-packages\\seaborn\\algorithms.py:85: RankWarning: Polyfit may be poorly conditioned\n",
      "  boot_dist.append(f(*sample, **func_kwargs))\n",
      "C:\\Users\\josie\\anaconda3\\lib\\site-packages\\seaborn\\algorithms.py:85: RankWarning: Polyfit may be poorly conditioned\n",
      "  boot_dist.append(f(*sample, **func_kwargs))\n",
      "C:\\Users\\josie\\anaconda3\\lib\\site-packages\\seaborn\\algorithms.py:85: RankWarning: Polyfit may be poorly conditioned\n",
      "  boot_dist.append(f(*sample, **func_kwargs))\n",
      "C:\\Users\\josie\\anaconda3\\lib\\site-packages\\seaborn\\algorithms.py:85: RankWarning: Polyfit may be poorly conditioned\n",
      "  boot_dist.append(f(*sample, **func_kwargs))\n",
      "C:\\Users\\josie\\anaconda3\\lib\\site-packages\\seaborn\\algorithms.py:85: RankWarning: Polyfit may be poorly conditioned\n",
      "  boot_dist.append(f(*sample, **func_kwargs))\n",
      "C:\\Users\\josie\\anaconda3\\lib\\site-packages\\seaborn\\algorithms.py:85: RankWarning: Polyfit may be poorly conditioned\n",
      "  boot_dist.append(f(*sample, **func_kwargs))\n",
      "C:\\Users\\josie\\anaconda3\\lib\\site-packages\\seaborn\\algorithms.py:85: RankWarning: Polyfit may be poorly conditioned\n",
      "  boot_dist.append(f(*sample, **func_kwargs))\n",
      "C:\\Users\\josie\\anaconda3\\lib\\site-packages\\seaborn\\algorithms.py:85: RankWarning: Polyfit may be poorly conditioned\n",
      "  boot_dist.append(f(*sample, **func_kwargs))\n",
      "C:\\Users\\josie\\anaconda3\\lib\\site-packages\\seaborn\\algorithms.py:85: RankWarning: Polyfit may be poorly conditioned\n",
      "  boot_dist.append(f(*sample, **func_kwargs))\n",
      "C:\\Users\\josie\\anaconda3\\lib\\site-packages\\seaborn\\algorithms.py:85: RankWarning: Polyfit may be poorly conditioned\n",
      "  boot_dist.append(f(*sample, **func_kwargs))\n",
      "C:\\Users\\josie\\anaconda3\\lib\\site-packages\\seaborn\\algorithms.py:85: RankWarning: Polyfit may be poorly conditioned\n",
      "  boot_dist.append(f(*sample, **func_kwargs))\n",
      "C:\\Users\\josie\\anaconda3\\lib\\site-packages\\seaborn\\algorithms.py:85: RankWarning: Polyfit may be poorly conditioned\n",
      "  boot_dist.append(f(*sample, **func_kwargs))\n"
     ]
    },
    {
     "data": {
      "image/png": "[encoded data removed]",
      "text/plain": [
       "<Figure size 864x432 with 1 Axes>"
      ]
     },
     "metadata": {
      "needs_background": "light"
     },
     "output_type": "display_data"
    }
   ],
   "source": [
    "fig, ax = plt.subplots(figsize = (12, 6))\n",
    "\n",
    "sns.regplot(x = Alturas_bomba_sistema.index, y = Alturas_bomba_sistema.values, ax = ax, order = 2, label = \"Sistema\", color = \"green\")\n",
    "sns.regplot(x = Alturas_bomba_6PWS230G150.index, y = Alturas_bomba_6PWS230G150.values, ax = ax, order = 5, ci = None, label = \"Bomba\", color = \"blue\")\n",
    "\n",
    "ax.set_ylim([0, 350])\n",
    "\n",
    "ax.axvline(x = 209, ymax = 0.67, color = \"red\", linestyle = \"--\")\n",
    "ax.text(209+1, 100, '209', fontsize = 12)\n",
    "\n",
    "ax.axhline(y = 233, xmax = 0.63, color = 'red', linestyle = \"--\")\n",
    "ax.text(100, 233+5, '233', fontsize = 12)\n",
    "\n",
    "ax.tick_params(labelsize = 12)\n",
    "\n",
    "ax.set_xlabel(\"Caudal (GPM)\", fontsize = 12)\n",
    "ax.set_ylabel(\"Carga (Pies)\", fontsize = 12)\n",
    "\n",
    "ax.legend(loc = \"best\", prop = {'size': 12})\n",
    "\n",
    "plt.savefig('Figura 60.png')"
   ]
  },
  {
   "cell_type": "code",
   "execution_count": 52,
   "id": "14994c39",
   "metadata": {},
   "outputs": [
    {
     "name": "stdout",
     "output_type": "stream",
     "text": [
      "Carga total de la bomba en el punto de operación = 71.018 m\n",
      "Caudal de la bomba en el punto de operación = 0.013 m3/s\n"
     ]
    }
   ],
   "source": [
    "h_bomba = 233*0.3048\n",
    "print(f\"Carga total de la bomba en el punto de operación = {h_bomba:.3f} m\")\n",
    "\n",
    "Caudal_bomba = 209*6.30901964e-5\n",
    "print(f\"Caudal de la bomba en el punto de operación = {Caudal_bomba:.3f} m3/s\")"
   ]
  },
  {
   "cell_type": "code",
   "execution_count": 53,
   "id": "c8e17ac2",
   "metadata": {},
   "outputs": [
    {
     "name": "stdout",
     "output_type": "stream",
     "text": [
      "Potencia de la bomba en el punto de operación = 9.168 kW\n"
     ]
    }
   ],
   "source": [
    "W_dot_bomba = rho * g * h_bomba * Caudal_bomba/1000\n",
    "print(f\"Potencia de la bomba en el punto de operación = {W_dot_bomba:.3f} kW\")"
   ]
  },
  {
   "cell_type": "code",
   "execution_count": 54,
   "id": "5c6cc057",
   "metadata": {},
   "outputs": [
    {
     "name": "stdout",
     "output_type": "stream",
     "text": [
      "Potencia eléctrica del motor = 12.733 kW\n"
     ]
    }
   ],
   "source": [
    "eta_mb = 0.72 #Eficiencia de la electrobomba según catálogo de bomba en el punto de operación.\n",
    "\n",
    "W_dot_motor = W_dot_bomba/eta_mb\n",
    "print(f\"Potencia eléctrica del motor = {W_dot_motor:.3f} kW\")"
   ]
  },
  {
   "cell_type": "code",
   "execution_count": 55,
   "id": "9dd5fcb3",
   "metadata": {},
   "outputs": [
    {
     "name": "stdout",
     "output_type": "stream",
     "text": [
      "Carga de presión de estancamiento en la entrada de la bomba = 12.684 m\n"
     ]
    }
   ],
   "source": [
    "P_a = 101.325 * 1000 #Presión en el punto a [Pa].\n",
    "Z_e = 105.665 #Cota del punto e [msnm].\n",
    "h_L_aYe = 0 #Pérdida de carga entre los puntos a y e.\n",
    "\n",
    "h_estancamiento_e = P_a/(rho*g) + (v_a**2)/(2*g) + Z_a - Z_e - h_L_aYe\n",
    "print(f\"Carga de presión de estancamiento en la entrada de la bomba = {h_estancamiento_e:.3f} m\")"
   ]
  },
  {
   "cell_type": "code",
   "execution_count": 56,
   "id": "e71ba063",
   "metadata": {},
   "outputs": [
    {
     "name": "stdout",
     "output_type": "stream",
     "text": [
      "NPSH disponible en la instalación = 12.445 m\n",
      "NPSH disponible en la instalación = 40.831 pies\n"
     ]
    }
   ],
   "source": [
    "P_vapor = 2.34 #Presión de vapor del agua a 20 °C [kPa].\n",
    "NPSH_dis = h_estancamiento_e - P_vapor*1000/(rho*g)\n",
    "print(f\"NPSH disponible en la instalación = {NPSH_dis:.3f} m\")\n",
    "print(f\"NPSH disponible en la instalación = {NPSH_dis/0.3048:.3f} pies\")"
   ]
  },
  {
   "cell_type": "code",
   "execution_count": 57,
   "id": "4850ddee",
   "metadata": {},
   "outputs": [
    {
     "data": {
      "text/plain": [
       "True"
      ]
     },
     "execution_count": 57,
     "metadata": {},
     "output_type": "execute_result"
    }
   ],
   "source": [
    "NPSH_req = 9.375 #Valor obtenido del catálogo del fabricante de la bomba bajo el caudal de operación [pies].\n",
    "\n",
    "NPSH_dis/0.3048 > 1.1 * NPSH_req"
   ]
  },
  {
   "cell_type": "markdown",
   "id": "ccd30f5a",
   "metadata": {},
   "source": [
    "#### La relación anterior resulta ser True, lo que verifica que no habrá problemas de cavitación bajo el caudal de operación."
   ]
  },
  {
   "cell_type": "code",
   "execution_count": 58,
   "id": "a34e089d",
   "metadata": {},
   "outputs": [
    {
     "name": "stdout",
     "output_type": "stream",
     "text": [
      "Potencia del generador fotovoltaico = 18.191 kW\n"
     ]
    }
   ],
   "source": [
    "R = 0.7 #Rendimiento de la instalación fotovoltaica.\n",
    "W_dot_generador = W_dot_motor/R\n",
    "print(f\"Potencia del generador fotovoltaico = {W_dot_generador:.3f} kW\")"
   ]
  },
  {
   "cell_type": "code",
   "execution_count": 59,
   "id": "84c863eb",
   "metadata": {},
   "outputs": [
    {
     "name": "stdout",
     "output_type": "stream",
     "text": [
      "Temperatura de la célula solar = 56 °C\n"
     ]
    }
   ],
   "source": [
    "NOCT = 45 #Temperatura de operación nominal de la célula solar del panel seleccionado [°C].\n",
    "T_amb = 24.100 #Temperatura ambiente [°C].\n",
    "H = 1000 #Irradiancia [W/m2].\n",
    "T_cel = ceil(T_amb + (NOCT - 20)*H/800)\n",
    "print(f\"Temperatura de la célula solar = {T_cel} °C\")"
   ]
  },
  {
   "cell_type": "code",
   "execution_count": 60,
   "id": "fe7bda7a",
   "metadata": {},
   "outputs": [
    {
     "name": "stdout",
     "output_type": "stream",
     "text": [
      "Cambio en la potencia pico = -17.795 %\n",
      "Cambio en el voltaje de circuito abierto = -11.792 %\n",
      "Cambio en la corriente de cortocircuito = 0.922 %\n"
     ]
    }
   ],
   "source": [
    "CT_W_dot_mpp = -0.57402 #Coeficiente potencia-temperatura [%].\n",
    "CT_V_oc = -0.38038 #Coeficiente voltaje-temperatura [%].\n",
    "CT_I_sc = 0.02973 #Coeficiente corriente-temperatura [%].\n",
    "T_test = 25 #Temperatura de ensayo de los paneles seleccionados [°C].\n",
    "\n",
    "Cambio_W_dot_mpp = CT_W_dot_mpp * (T_cel - T_test)\n",
    "print(f\"Cambio en la potencia pico = {Cambio_W_dot_mpp:.3f} %\")\n",
    "\n",
    "Cambio_V_oc = CT_V_oc * (T_cel - T_test)\n",
    "print(f\"Cambio en el voltaje de circuito abierto = {Cambio_V_oc:.3f} %\")\n",
    "\n",
    "Cambio_I_sc = CT_I_sc * (T_cel - T_test)\n",
    "print(f\"Cambio en la corriente de cortocircuito = {Cambio_I_sc:.3f} %\")"
   ]
  },
  {
   "cell_type": "code",
   "execution_count": 61,
   "id": "7c289d01",
   "metadata": {},
   "outputs": [
    {
     "name": "stdout",
     "output_type": "stream",
     "text": [
      "Potencia pico corregida por la temperatura de la célula = 304.160 W\n",
      "Voltaje en circuito abierto corregida por la temperatura de la célula = 42.605 V\n",
      "Corriente de cortocircuito corregida por la temperatura de la célula = 10.042 A\n"
     ]
    }
   ],
   "source": [
    "W_dot_mpp = 370 #potencia pico [W].\n",
    "V_oc = 48.3 #Voltaje en circuito abierto [V].\n",
    "I_sc = 9.95 #Corriente de cortocircuito [A].\n",
    "\n",
    "W_dot_mpp_corr = W_dot_mpp * (1 + Cambio_W_dot_mpp/100)\n",
    "V_oc_corr = V_oc * (1 + Cambio_V_oc/100)\n",
    "I_sc_corr = I_sc * (1 + Cambio_I_sc/100)\n",
    "\n",
    "print(f\"Potencia pico corregida por la temperatura de la célula = {W_dot_mpp_corr:.3f} W\")\n",
    "print(f\"Voltaje en circuito abierto corregida por la temperatura de la célula = {V_oc_corr:.3f} V\")\n",
    "print(f\"Corriente de cortocircuito corregida por la temperatura de la célula = {I_sc_corr:.3f} A\")"
   ]
  },
  {
   "cell_type": "code",
   "execution_count": 62,
   "id": "778d1c7e",
   "metadata": {},
   "outputs": [
    {
     "name": "stdout",
     "output_type": "stream",
     "text": [
      "Número de paneles del generador fotovoltaico = 59.806\n"
     ]
    }
   ],
   "source": [
    "N_pan = W_dot_generador*1000/W_dot_mpp_corr\n",
    "print(f\"Número de paneles del generador fotovoltaico = {N_pan:.3f}\")"
   ]
  },
  {
   "cell_type": "markdown",
   "id": "45bcad9c",
   "metadata": {},
   "source": [
    "#### Se elige 60 paneles solares ya que como se verá a continuación, este número es divisible por la cantidad de paneles en serie que hay en cada cadena del generador fotovoltaico."
   ]
  },
  {
   "cell_type": "code",
   "execution_count": 63,
   "id": "2cfc0735",
   "metadata": {},
   "outputs": [
    {
     "name": "stdout",
     "output_type": "stream",
     "text": [
      "Número de paneles en serie = 19.950\n"
     ]
    }
   ],
   "source": [
    "N_pan = 60 #Número total de paneles solares seleccionados.\n",
    "\n",
    "V_nom_sf = 800 #Voltaje nominal del sistema fotovoltaico adecuado para el inversor de bombeo solar [V].\n",
    "V_mpp = 40.1 #Voltaje en el punto de máxima potencia [V].\n",
    "\n",
    "N_pan_ser = V_nom_sf/V_mpp\n",
    "print(f\"Número de paneles en serie = {N_pan_ser:.3f}\")"
   ]
  },
  {
   "cell_type": "markdown",
   "id": "4741e6f3",
   "metadata": {},
   "source": [
    "#### Se toma 20 paneles en serie por cadena."
   ]
  },
  {
   "cell_type": "code",
   "execution_count": 64,
   "id": "6feffd81",
   "metadata": {},
   "outputs": [
    {
     "name": "stdout",
     "output_type": "stream",
     "text": [
      "Número de cadenas en paralelo = 3.0\n"
     ]
    }
   ],
   "source": [
    "N_pan_ser = 20 #Número de paneles en serie.\n",
    "\n",
    "N_cad_par = N_pan/N_pan_ser\n",
    "print(f\"Número de cadenas en paralelo = {N_cad_par}\")"
   ]
  },
  {
   "cell_type": "code",
   "execution_count": 65,
   "id": "f1afda1b",
   "metadata": {},
   "outputs": [
    {
     "name": "stdout",
     "output_type": "stream",
     "text": [
      "Potencia del inversor de bombeo solar = 14.007 kW\n"
     ]
    }
   ],
   "source": [
    "fs = 1.1 #Factor de seguridad.\n",
    "W_dot_inv = W_dot_motor * fs\n",
    "print(f\"Potencia del inversor de bombeo solar = {W_dot_inv:.3f} kW\")"
   ]
  },
  {
   "cell_type": "code",
   "execution_count": 66,
   "id": "7bb19ea5",
   "metadata": {},
   "outputs": [
    {
     "name": "stdout",
     "output_type": "stream",
     "text": [
      "Voltaje que el inversor debe soportar en su entrada como mínimo = 802.000 V\n"
     ]
    }
   ],
   "source": [
    "V_max_inv = V_mpp * N_pan_ser\n",
    "print(f\"Voltaje que el inversor debe soportar en su entrada como mínimo = {V_max_inv:.3f} V\")"
   ]
  },
  {
   "cell_type": "code",
   "execution_count": 67,
   "id": "65ff8bd9",
   "metadata": {},
   "outputs": [
    {
     "name": "stdout",
     "output_type": "stream",
     "text": [
      "Corriente que el inversor debe soportar en su entrada como mínimo = 33.138 A\n"
     ]
    }
   ],
   "source": [
    "fs = 1.1 #Factor de seguridad\n",
    "I_max_inv = fs * I_sc_corr * N_cad_par\n",
    "print(f\"Corriente que el inversor debe soportar en su entrada como mínimo = {I_max_inv:.3f} A\")"
   ]
  }
 ],
 "metadata": {
  "kernelspec": {
   "display_name": "Python 3 (ipykernel)",
   "language": "python",
   "name": "python3"
  },
  "language_info": {
   "codemirror_mode": {
    "name": "ipython",
    "version": 3
   },
   "file_extension": ".py",
   "mimetype": "text/x-python",
   "name": "python",
   "nbconvert_exporter": "python",
   "pygments_lexer": "ipython3",
   "version": "3.9.12"
  }
 },
 "nbformat": 4,
 "nbformat_minor": 5
}
